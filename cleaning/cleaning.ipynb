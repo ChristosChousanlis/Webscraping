{
 "cells": [
  {
   "cell_type": "code",
   "execution_count": 119,
   "metadata": {
    "tags": []
   },
   "outputs": [],
   "source": [
    "import matplotlib.pyplot as plt\n",
    "import seaborn as sns\n",
    "import pandas as pd\n",
    "import numpy as np\n",
    "import re\n",
    "from tqdm.notebook import tqdm\n",
    "tqdm.pandas()"
   ]
  },
  {
   "cell_type": "code",
   "execution_count": 120,
   "metadata": {
    "collapsed": false,
    "jupyter": {
     "outputs_hidden": false
    },
    "pycharm": {
     "name": "#%%\n"
    }
   },
   "outputs": [],
   "source": [
    "books2016 = pd.read_csv('../data/Books2016.csv')\n",
    "books2017 = pd.read_csv('../data/books_2017.csv')\n",
    "books2018 = pd.read_csv('../data/Books2018.csv')\n",
    "books2019 = pd.read_csv('../data/Books2019 .csv')\n",
    "books2020 = pd.read_csv('../data/books_2020.csv')"
   ]
  },
  {
   "cell_type": "code",
   "execution_count": 121,
   "metadata": {
    "collapsed": false,
    "jupyter": {
     "outputs_hidden": false
    },
    "pycharm": {
     "name": "#%%\n"
    }
   },
   "outputs": [],
   "source": [
    "df = pd.concat([books2016, books2017, books2018, books2019, books2020])"
   ]
  },
  {
   "cell_type": "code",
   "execution_count": 122,
   "metadata": {
    "collapsed": false,
    "jupyter": {
     "outputs_hidden": false
    },
    "pycharm": {
     "name": "#%%\n"
    }
   },
   "outputs": [],
   "source": [
    "df.dropna(inplace=True)"
   ]
  },
  {
   "cell_type": "code",
   "execution_count": 123,
   "metadata": {
    "collapsed": false,
    "jupyter": {
     "outputs_hidden": false
    },
    "pycharm": {
     "name": "#%%\n"
    }
   },
   "outputs": [],
   "source": [
    "df.rename({'Publisher':'Author'}, axis=1, inplace= True)"
   ]
  },
  {
   "cell_type": "code",
   "execution_count": 124,
   "metadata": {
    "collapsed": false,
    "jupyter": {
     "outputs_hidden": false
    },
    "pycharm": {
     "name": "#%%\n"
    }
   },
   "outputs": [
    {
     "name": "stdout",
     "output_type": "stream",
     "text": [
      "<class 'pandas.core.frame.DataFrame'>\n",
      "Int64Index: 33022 entries, 2 to 11824\n",
      "Data columns (total 11 columns):\n",
      " #   Column     Non-Null Count  Dtype  \n",
      "---  ------     --------------  -----  \n",
      " 0   Title      33022 non-null  object \n",
      " 1   Price_Old  33022 non-null  object \n",
      " 2   Discount   33022 non-null  object \n",
      " 3   Price_New  33022 non-null  object \n",
      " 4   Author     33022 non-null  object \n",
      " 5   Link       33022 non-null  object \n",
      " 6   Year       33022 non-null  int64  \n",
      " 7   Category   33022 non-null  object \n",
      " 8   ISBN       33022 non-null  object \n",
      " 9   Pages      33022 non-null  float64\n",
      " 10  Binding    33022 non-null  object \n",
      "dtypes: float64(1), int64(1), object(9)\n",
      "memory usage: 3.0+ MB\n"
     ]
    }
   ],
   "source": [
    "df.info()"
   ]
  },
  {
   "cell_type": "code",
   "execution_count": 125,
   "metadata": {
    "collapsed": false,
    "jupyter": {
     "outputs_hidden": false
    },
    "pycharm": {
     "name": "#%%\n"
    }
   },
   "outputs": [
    {
     "data": {
      "text/html": [
       "<div>\n",
       "<style scoped>\n",
       "    .dataframe tbody tr th:only-of-type {\n",
       "        vertical-align: middle;\n",
       "    }\n",
       "\n",
       "    .dataframe tbody tr th {\n",
       "        vertical-align: top;\n",
       "    }\n",
       "\n",
       "    .dataframe thead th {\n",
       "        text-align: right;\n",
       "    }\n",
       "</style>\n",
       "<table border=\"1\" class=\"dataframe\">\n",
       "  <thead>\n",
       "    <tr style=\"text-align: right;\">\n",
       "      <th></th>\n",
       "      <th>Title</th>\n",
       "      <th>Price_Old</th>\n",
       "      <th>Discount</th>\n",
       "      <th>Price_New</th>\n",
       "      <th>Author</th>\n",
       "      <th>Link</th>\n",
       "      <th>Year</th>\n",
       "      <th>Category</th>\n",
       "      <th>ISBN</th>\n",
       "      <th>Pages</th>\n",
       "      <th>Binding</th>\n",
       "    </tr>\n",
       "  </thead>\n",
       "  <tbody>\n",
       "    <tr>\n",
       "      <th>2</th>\n",
       "      <td>Οι 5 γλώσσες της αγάπης - 2η έκδοση</td>\n",
       "      <td>15.50€</td>\n",
       "      <td>-26%</td>\n",
       "      <td>11.47€</td>\n",
       "      <td>Gary Chapman</td>\n",
       "      <td>https://www.captainbook.gr/book/oi-5-glosses-t...</td>\n",
       "      <td>2016</td>\n",
       "      <td>, Αυτοβοήθεια</td>\n",
       "      <td>9789604617005</td>\n",
       "      <td>240.0</td>\n",
       "      <td>Χαρτόδετο</td>\n",
       "    </tr>\n",
       "    <tr>\n",
       "      <th>3</th>\n",
       "      <td>Universo Gramatical Version…</td>\n",
       "      <td>27.75€</td>\n",
       "      <td>-11%</td>\n",
       "      <td>24.70€</td>\n",
       "      <td>María Jesús Blázquez Lozano</td>\n",
       "      <td>https://www.captainbook.gr/book/universo-grama...</td>\n",
       "      <td>2016</td>\n",
       "      <td>, Ισπανικά</td>\n",
       "      <td>9788498484410</td>\n",
       "      <td>320.0</td>\n",
       "      <td>Μαλακό εξώφυλλο</td>\n",
       "    </tr>\n",
       "    <tr>\n",
       "      <th>5</th>\n",
       "      <td>MIRRORLESS PHOTOGRAPHY</td>\n",
       "      <td>15.00€</td>\n",
       "      <td>-10%</td>\n",
       "      <td>13.50€</td>\n",
       "      <td>Βαγγέλης Δελέγκος</td>\n",
       "      <td>https://www.captainbook.gr/book/mirrorless-pho...</td>\n",
       "      <td>2016</td>\n",
       "      <td>Φωτογραφία</td>\n",
       "      <td>9789608152236</td>\n",
       "      <td>164.0</td>\n",
       "      <td>Χαρτόδετο</td>\n",
       "    </tr>\n",
       "    <tr>\n",
       "      <th>6</th>\n",
       "      <td>Τριγυρνώ μες στην Αθήνα</td>\n",
       "      <td>12.00€</td>\n",
       "      <td>-11%</td>\n",
       "      <td>10.68€</td>\n",
       "      <td>Πέτρος Χριστούλιας</td>\n",
       "      <td>https://www.captainbook.gr/book/trigurno-mes-s...</td>\n",
       "      <td>2016</td>\n",
       "      <td>Χόμπι</td>\n",
       "      <td>9786185116224</td>\n",
       "      <td>80.0</td>\n",
       "      <td>Σκληρό εξώφυλλο</td>\n",
       "    </tr>\n",
       "    <tr>\n",
       "      <th>8</th>\n",
       "      <td>Θαυματουργά Μάντρας</td>\n",
       "      <td>22.00€</td>\n",
       "      <td>-10%</td>\n",
       "      <td>19.80€</td>\n",
       "      <td>Pandit Gopal Sharma</td>\n",
       "      <td>https://www.captainbook.gr/book/thaumatourga-m...</td>\n",
       "      <td>2016</td>\n",
       "      <td>Φιλοσοφία | Κοινωνιολογία | Θρησκεία</td>\n",
       "      <td>9789604304264</td>\n",
       "      <td>208.0</td>\n",
       "      <td>Χαρτόδετο</td>\n",
       "    </tr>\n",
       "  </tbody>\n",
       "</table>\n",
       "</div>"
      ],
      "text/plain": [
       "                                 Title Price_Old Discount Price_New  \\\n",
       "2  Οι 5 γλώσσες της αγάπης - 2η έκδοση    15.50€     -26%    11.47€   \n",
       "3         Universo Gramatical Version…    27.75€     -11%    24.70€   \n",
       "5               MIRRORLESS PHOTOGRAPHY    15.00€     -10%    13.50€   \n",
       "6              Τριγυρνώ μες στην Αθήνα    12.00€     -11%    10.68€   \n",
       "8                  Θαυματουργά Μάντρας    22.00€     -10%    19.80€   \n",
       "\n",
       "                        Author  \\\n",
       "2                 Gary Chapman   \n",
       "3  María Jesús Blázquez Lozano   \n",
       "5            Βαγγέλης Δελέγκος   \n",
       "6           Πέτρος Χριστούλιας   \n",
       "8          Pandit Gopal Sharma   \n",
       "\n",
       "                                                Link  Year  \\\n",
       "2  https://www.captainbook.gr/book/oi-5-glosses-t...  2016   \n",
       "3  https://www.captainbook.gr/book/universo-grama...  2016   \n",
       "5  https://www.captainbook.gr/book/mirrorless-pho...  2016   \n",
       "6  https://www.captainbook.gr/book/trigurno-mes-s...  2016   \n",
       "8  https://www.captainbook.gr/book/thaumatourga-m...  2016   \n",
       "\n",
       "                               Category           ISBN  Pages          Binding  \n",
       "2                         , Αυτοβοήθεια  9789604617005  240.0        Χαρτόδετο  \n",
       "3                            , Ισπανικά  9788498484410  320.0  Μαλακό εξώφυλλο  \n",
       "5                            Φωτογραφία  9789608152236  164.0        Χαρτόδετο  \n",
       "6                                 Χόμπι  9786185116224   80.0  Σκληρό εξώφυλλο  \n",
       "8  Φιλοσοφία | Κοινωνιολογία | Θρησκεία  9789604304264  208.0        Χαρτόδετο  "
      ]
     },
     "execution_count": 125,
     "metadata": {},
     "output_type": "execute_result"
    }
   ],
   "source": [
    "df.head()"
   ]
  },
  {
   "cell_type": "code",
   "execution_count": 126,
   "metadata": {
    "collapsed": false,
    "jupyter": {
     "outputs_hidden": false
    },
    "pycharm": {
     "name": "#%%\n"
    }
   },
   "outputs": [],
   "source": [
    "def remove_special_char(text):\n",
    "    string = re.sub('[^a-zA-Z0-9]', ' ', text)\n",
    "    string = int(string)/100\n",
    "    return string"
   ]
  },
  {
   "cell_type": "code",
   "execution_count": 127,
   "metadata": {
    "collapsed": false,
    "jupyter": {
     "outputs_hidden": false
    },
    "pycharm": {
     "name": "#%%\n"
    }
   },
   "outputs": [],
   "source": [
    "def keep_digits(text):\n",
    "    string = re.sub('[^0-9]','', text)\n",
    "    return string"
   ]
  },
  {
   "cell_type": "code",
   "execution_count": 128,
   "metadata": {
    "collapsed": false,
    "jupyter": {
     "outputs_hidden": false
    },
    "pycharm": {
     "name": "#%%\n"
    }
   },
   "outputs": [],
   "source": [
    "def numeric(df,cols):\n",
    "    for col in cols:\n",
    "        df[col] = pd.to_numeric(df[col])\n",
    "    return df"
   ]
  },
  {
   "cell_type": "code",
   "execution_count": 129,
   "metadata": {
    "collapsed": false,
    "jupyter": {
     "outputs_hidden": false
    },
    "pycharm": {
     "name": "#%%\n"
    }
   },
   "outputs": [
    {
     "data": {
      "application/vnd.jupyter.widget-view+json": {
       "model_id": "c30d905854f74d02b8fd3d0bc459200d",
       "version_major": 2,
       "version_minor": 0
      },
      "text/plain": [
       "  0%|          | 0/33022 [00:00<?, ?it/s]"
      ]
     },
     "metadata": {},
     "output_type": "display_data"
    }
   ],
   "source": [
    "df[\"Price_Old\"] = df[\"Price_Old\"].progress_apply(lambda s: re.sub('€','',s))"
   ]
  },
  {
   "cell_type": "code",
   "execution_count": 130,
   "metadata": {
    "collapsed": false,
    "jupyter": {
     "outputs_hidden": false
    },
    "pycharm": {
     "name": "#%%\n"
    }
   },
   "outputs": [
    {
     "data": {
      "application/vnd.jupyter.widget-view+json": {
       "model_id": "e7afede2971b4605ab2226b69e2ebfc4",
       "version_major": 2,
       "version_minor": 0
      },
      "text/plain": [
       "  0%|          | 0/33022 [00:00<?, ?it/s]"
      ]
     },
     "metadata": {},
     "output_type": "display_data"
    }
   ],
   "source": [
    "df[\"Price_New\"]= df[\"Price_New\"].progress_apply(lambda s: re.sub('€','',s))"
   ]
  },
  {
   "cell_type": "code",
   "execution_count": 131,
   "metadata": {
    "collapsed": false,
    "jupyter": {
     "outputs_hidden": false
    },
    "pycharm": {
     "name": "#%%\n"
    }
   },
   "outputs": [
    {
     "data": {
      "application/vnd.jupyter.widget-view+json": {
       "model_id": "3498481d554447f5a43e873e2f36b759",
       "version_major": 2,
       "version_minor": 0
      },
      "text/plain": [
       "  0%|          | 0/33022 [00:00<?, ?it/s]"
      ]
     },
     "metadata": {},
     "output_type": "display_data"
    }
   ],
   "source": [
    "df['Discount']=df['Discount'].progress_apply(lambda s: remove_special_char(s))"
   ]
  },
  {
   "cell_type": "code",
   "execution_count": 132,
   "metadata": {
    "collapsed": false,
    "jupyter": {
     "outputs_hidden": false
    },
    "pycharm": {
     "name": "#%%\n"
    }
   },
   "outputs": [
    {
     "data": {
      "application/vnd.jupyter.widget-view+json": {
       "model_id": "31b693ddf98a4cdbb65309a0e20c7904",
       "version_major": 2,
       "version_minor": 0
      },
      "text/plain": [
       "  0%|          | 0/33022 [00:00<?, ?it/s]"
      ]
     },
     "metadata": {},
     "output_type": "display_data"
    }
   ],
   "source": [
    "df['ISBN'] =df['ISBN'].progress_apply(lambda s: keep_digits(s))"
   ]
  },
  {
   "cell_type": "code",
   "execution_count": 133,
   "metadata": {
    "collapsed": false,
    "jupyter": {
     "outputs_hidden": false
    },
    "pycharm": {
     "name": "#%%\n"
    }
   },
   "outputs": [],
   "source": [
    "cols = ['Price_New','Price_Old','Discount','ISBN']\n",
    "df1 = numeric(df,cols)"
   ]
  },
  {
   "cell_type": "code",
   "execution_count": 134,
   "metadata": {
    "collapsed": false,
    "jupyter": {
     "outputs_hidden": false
    },
    "pycharm": {
     "name": "#%%\n"
    }
   },
   "outputs": [
    {
     "name": "stdout",
     "output_type": "stream",
     "text": [
      "<class 'pandas.core.frame.DataFrame'>\n",
      "Int64Index: 33022 entries, 2 to 11824\n",
      "Data columns (total 11 columns):\n",
      " #   Column     Non-Null Count  Dtype  \n",
      "---  ------     --------------  -----  \n",
      " 0   Title      33022 non-null  object \n",
      " 1   Price_Old  33022 non-null  float64\n",
      " 2   Discount   33022 non-null  float64\n",
      " 3   Price_New  33022 non-null  float64\n",
      " 4   Author     33022 non-null  object \n",
      " 5   Link       33022 non-null  object \n",
      " 6   Year       33022 non-null  int64  \n",
      " 7   Category   33022 non-null  object \n",
      " 8   ISBN       33022 non-null  int64  \n",
      " 9   Pages      33022 non-null  float64\n",
      " 10  Binding    33022 non-null  object \n",
      "dtypes: float64(4), int64(2), object(5)\n",
      "memory usage: 3.0+ MB\n"
     ]
    }
   ],
   "source": [
    "df1.info()"
   ]
  },
  {
   "cell_type": "code",
   "execution_count": 135,
   "metadata": {
    "collapsed": false,
    "jupyter": {
     "outputs_hidden": false
    },
    "pycharm": {
     "name": "#%%\n"
    }
   },
   "outputs": [
    {
     "data": {
      "application/vnd.jupyter.widget-view+json": {
       "model_id": "5e23c961f966461c819172118f637e68",
       "version_major": 2,
       "version_minor": 0
      },
      "text/plain": [
       "  0%|          | 0/33022 [00:00<?, ?it/s]"
      ]
     },
     "metadata": {},
     "output_type": "display_data"
    }
   ],
   "source": [
    "df1['Category'] = df1['Category'].progress_apply(lambda s: re.sub(',','',s))"
   ]
  },
  {
   "cell_type": "code",
   "execution_count": 136,
   "metadata": {
    "collapsed": false,
    "jupyter": {
     "outputs_hidden": false
    },
    "pycharm": {
     "name": "#%%\n"
    }
   },
   "outputs": [],
   "source": [
    "df1['Category'] = df1['Category'].apply(lambda s: re.sub(' ','',s))"
   ]
  },
  {
   "cell_type": "code",
   "execution_count": 137,
   "metadata": {
    "collapsed": false,
    "jupyter": {
     "outputs_hidden": false
    },
    "pycharm": {
     "name": "#%%\n"
    }
   },
   "outputs": [],
   "source": [
    "df1['Category'] = df1['Category'].str.split('|')"
   ]
  },
  {
   "cell_type": "code",
   "execution_count": 138,
   "metadata": {
    "collapsed": false,
    "jupyter": {
     "outputs_hidden": false
    },
    "pycharm": {
     "name": "#%%\n"
    }
   },
   "outputs": [
    {
     "data": {
      "text/html": [
       "<div>\n",
       "<style scoped>\n",
       "    .dataframe tbody tr th:only-of-type {\n",
       "        vertical-align: middle;\n",
       "    }\n",
       "\n",
       "    .dataframe tbody tr th {\n",
       "        vertical-align: top;\n",
       "    }\n",
       "\n",
       "    .dataframe thead th {\n",
       "        text-align: right;\n",
       "    }\n",
       "</style>\n",
       "<table border=\"1\" class=\"dataframe\">\n",
       "  <thead>\n",
       "    <tr style=\"text-align: right;\">\n",
       "      <th></th>\n",
       "      <th>Title</th>\n",
       "      <th>Price_Old</th>\n",
       "      <th>Discount</th>\n",
       "      <th>Price_New</th>\n",
       "      <th>Author</th>\n",
       "      <th>Link</th>\n",
       "      <th>Year</th>\n",
       "      <th>Category</th>\n",
       "      <th>ISBN</th>\n",
       "      <th>Pages</th>\n",
       "      <th>Binding</th>\n",
       "    </tr>\n",
       "  </thead>\n",
       "  <tbody>\n",
       "    <tr>\n",
       "      <th>2</th>\n",
       "      <td>Οι 5 γλώσσες της αγάπης - 2η έκδοση</td>\n",
       "      <td>15.50</td>\n",
       "      <td>0.26</td>\n",
       "      <td>11.47</td>\n",
       "      <td>Gary Chapman</td>\n",
       "      <td>https://www.captainbook.gr/book/oi-5-glosses-t...</td>\n",
       "      <td>2016</td>\n",
       "      <td>[Αυτοβοήθεια]</td>\n",
       "      <td>9789604617005</td>\n",
       "      <td>240.0</td>\n",
       "      <td>Χαρτόδετο</td>\n",
       "    </tr>\n",
       "    <tr>\n",
       "      <th>3</th>\n",
       "      <td>Universo Gramatical Version…</td>\n",
       "      <td>27.75</td>\n",
       "      <td>0.11</td>\n",
       "      <td>24.70</td>\n",
       "      <td>María Jesús Blázquez Lozano</td>\n",
       "      <td>https://www.captainbook.gr/book/universo-grama...</td>\n",
       "      <td>2016</td>\n",
       "      <td>[Ισπανικά]</td>\n",
       "      <td>9788498484410</td>\n",
       "      <td>320.0</td>\n",
       "      <td>Μαλακό εξώφυλλο</td>\n",
       "    </tr>\n",
       "    <tr>\n",
       "      <th>5</th>\n",
       "      <td>MIRRORLESS PHOTOGRAPHY</td>\n",
       "      <td>15.00</td>\n",
       "      <td>0.10</td>\n",
       "      <td>13.50</td>\n",
       "      <td>Βαγγέλης Δελέγκος</td>\n",
       "      <td>https://www.captainbook.gr/book/mirrorless-pho...</td>\n",
       "      <td>2016</td>\n",
       "      <td>[Φωτογραφία]</td>\n",
       "      <td>9789608152236</td>\n",
       "      <td>164.0</td>\n",
       "      <td>Χαρτόδετο</td>\n",
       "    </tr>\n",
       "    <tr>\n",
       "      <th>6</th>\n",
       "      <td>Τριγυρνώ μες στην Αθήνα</td>\n",
       "      <td>12.00</td>\n",
       "      <td>0.11</td>\n",
       "      <td>10.68</td>\n",
       "      <td>Πέτρος Χριστούλιας</td>\n",
       "      <td>https://www.captainbook.gr/book/trigurno-mes-s...</td>\n",
       "      <td>2016</td>\n",
       "      <td>[Χόμπι]</td>\n",
       "      <td>9786185116224</td>\n",
       "      <td>80.0</td>\n",
       "      <td>Σκληρό εξώφυλλο</td>\n",
       "    </tr>\n",
       "    <tr>\n",
       "      <th>8</th>\n",
       "      <td>Θαυματουργά Μάντρας</td>\n",
       "      <td>22.00</td>\n",
       "      <td>0.10</td>\n",
       "      <td>19.80</td>\n",
       "      <td>Pandit Gopal Sharma</td>\n",
       "      <td>https://www.captainbook.gr/book/thaumatourga-m...</td>\n",
       "      <td>2016</td>\n",
       "      <td>[Φιλοσοφία, Κοινωνιολογία, Θρησκεία]</td>\n",
       "      <td>9789604304264</td>\n",
       "      <td>208.0</td>\n",
       "      <td>Χαρτόδετο</td>\n",
       "    </tr>\n",
       "    <tr>\n",
       "      <th>...</th>\n",
       "      <td>...</td>\n",
       "      <td>...</td>\n",
       "      <td>...</td>\n",
       "      <td>...</td>\n",
       "      <td>...</td>\n",
       "      <td>...</td>\n",
       "      <td>...</td>\n",
       "      <td>...</td>\n",
       "      <td>...</td>\n",
       "      <td>...</td>\n",
       "      <td>...</td>\n",
       "    </tr>\n",
       "    <tr>\n",
       "      <th>11818</th>\n",
       "      <td>Φορολογικός οδηγός ναυτιλιακών…</td>\n",
       "      <td>75.00</td>\n",
       "      <td>0.11</td>\n",
       "      <td>66.75</td>\n",
       "      <td>Ηλίας Αλιφραγκής</td>\n",
       "      <td>https://www.captainbook.gr/book/forologikos-od...</td>\n",
       "      <td>2020</td>\n",
       "      <td>[Νομική]</td>\n",
       "      <td>9786185414474</td>\n",
       "      <td>635.0</td>\n",
       "      <td>Χαρτόδετο</td>\n",
       "    </tr>\n",
       "    <tr>\n",
       "      <th>11820</th>\n",
       "      <td>Της ίριδας το πείσμα</td>\n",
       "      <td>8.89</td>\n",
       "      <td>0.11</td>\n",
       "      <td>7.91</td>\n",
       "      <td>Γιάννης Γιαννακόπουλος</td>\n",
       "      <td>https://www.captainbook.gr/book/tis-iridas-to-...</td>\n",
       "      <td>2020</td>\n",
       "      <td>[Πεζογραφία]</td>\n",
       "      <td>9789606440342</td>\n",
       "      <td>80.0</td>\n",
       "      <td>Χαρτόδετο</td>\n",
       "    </tr>\n",
       "    <tr>\n",
       "      <th>11821</th>\n",
       "      <td>Ταξιδεύοντας σε όλο τον κόσμο με…</td>\n",
       "      <td>12.72</td>\n",
       "      <td>0.11</td>\n",
       "      <td>11.32</td>\n",
       "      <td>Helena Haraštová</td>\n",
       "      <td>https://www.captainbook.gr/book/taksideuontas-...</td>\n",
       "      <td>2020</td>\n",
       "      <td>[Εκπαίδευση, Παιδαγωγική]</td>\n",
       "      <td>9789606440168</td>\n",
       "      <td>34.0</td>\n",
       "      <td>Σκληρόδετο</td>\n",
       "    </tr>\n",
       "    <tr>\n",
       "      <th>11822</th>\n",
       "      <td>120 Σατιρικοί χάρτες ιστορικές &amp;…</td>\n",
       "      <td>90.00</td>\n",
       "      <td>0.10</td>\n",
       "      <td>81.00</td>\n",
       "      <td>Παναγιώτης Σουκάκος</td>\n",
       "      <td>https://www.captainbook.gr/book/120-satirikoi-...</td>\n",
       "      <td>2020</td>\n",
       "      <td>[Πεζογραφία]</td>\n",
       "      <td>9786185438098</td>\n",
       "      <td>448.0</td>\n",
       "      <td>Σκληρόδετο</td>\n",
       "    </tr>\n",
       "    <tr>\n",
       "      <th>11824</th>\n",
       "      <td>Τα σχέδια για μια νομισματική…</td>\n",
       "      <td>29.00</td>\n",
       "      <td>0.11</td>\n",
       "      <td>25.81</td>\n",
       "      <td>Μιχάλης Κάχρης</td>\n",
       "      <td>https://www.captainbook.gr/book/ta-sxedia-gia-...</td>\n",
       "      <td>2020</td>\n",
       "      <td>[Φυσικές&amp;ΘετικέςΕπιστήμες, Τεχνικά]</td>\n",
       "      <td>9786185247607</td>\n",
       "      <td>465.0</td>\n",
       "      <td>Χαρτόδετο</td>\n",
       "    </tr>\n",
       "  </tbody>\n",
       "</table>\n",
       "<p>33022 rows × 11 columns</p>\n",
       "</div>"
      ],
      "text/plain": [
       "                                     Title  Price_Old  Discount  Price_New  \\\n",
       "2      Οι 5 γλώσσες της αγάπης - 2η έκδοση      15.50      0.26      11.47   \n",
       "3             Universo Gramatical Version…      27.75      0.11      24.70   \n",
       "5                   MIRRORLESS PHOTOGRAPHY      15.00      0.10      13.50   \n",
       "6                  Τριγυρνώ μες στην Αθήνα      12.00      0.11      10.68   \n",
       "8                      Θαυματουργά Μάντρας      22.00      0.10      19.80   \n",
       "...                                    ...        ...       ...        ...   \n",
       "11818      Φορολογικός οδηγός ναυτιλιακών…      75.00      0.11      66.75   \n",
       "11820                 Της ίριδας το πείσμα       8.89      0.11       7.91   \n",
       "11821    Ταξιδεύοντας σε όλο τον κόσμο με…      12.72      0.11      11.32   \n",
       "11822    120 Σατιρικοί χάρτες ιστορικές &…      90.00      0.10      81.00   \n",
       "11824       Τα σχέδια για μια νομισματική…      29.00      0.11      25.81   \n",
       "\n",
       "                            Author  \\\n",
       "2                     Gary Chapman   \n",
       "3      María Jesús Blázquez Lozano   \n",
       "5                Βαγγέλης Δελέγκος   \n",
       "6               Πέτρος Χριστούλιας   \n",
       "8              Pandit Gopal Sharma   \n",
       "...                            ...   \n",
       "11818             Ηλίας Αλιφραγκής   \n",
       "11820       Γιάννης Γιαννακόπουλος   \n",
       "11821             Helena Haraštová   \n",
       "11822          Παναγιώτης Σουκάκος   \n",
       "11824               Μιχάλης Κάχρης   \n",
       "\n",
       "                                                    Link  Year  \\\n",
       "2      https://www.captainbook.gr/book/oi-5-glosses-t...  2016   \n",
       "3      https://www.captainbook.gr/book/universo-grama...  2016   \n",
       "5      https://www.captainbook.gr/book/mirrorless-pho...  2016   \n",
       "6      https://www.captainbook.gr/book/trigurno-mes-s...  2016   \n",
       "8      https://www.captainbook.gr/book/thaumatourga-m...  2016   \n",
       "...                                                  ...   ...   \n",
       "11818  https://www.captainbook.gr/book/forologikos-od...  2020   \n",
       "11820  https://www.captainbook.gr/book/tis-iridas-to-...  2020   \n",
       "11821  https://www.captainbook.gr/book/taksideuontas-...  2020   \n",
       "11822  https://www.captainbook.gr/book/120-satirikoi-...  2020   \n",
       "11824  https://www.captainbook.gr/book/ta-sxedia-gia-...  2020   \n",
       "\n",
       "                                   Category           ISBN  Pages  \\\n",
       "2                             [Αυτοβοήθεια]  9789604617005  240.0   \n",
       "3                                [Ισπανικά]  9788498484410  320.0   \n",
       "5                              [Φωτογραφία]  9789608152236  164.0   \n",
       "6                                   [Χόμπι]  9786185116224   80.0   \n",
       "8      [Φιλοσοφία, Κοινωνιολογία, Θρησκεία]  9789604304264  208.0   \n",
       "...                                     ...            ...    ...   \n",
       "11818                              [Νομική]  9786185414474  635.0   \n",
       "11820                          [Πεζογραφία]  9789606440342   80.0   \n",
       "11821             [Εκπαίδευση, Παιδαγωγική]  9789606440168   34.0   \n",
       "11822                          [Πεζογραφία]  9786185438098  448.0   \n",
       "11824   [Φυσικές&ΘετικέςΕπιστήμες, Τεχνικά]  9786185247607  465.0   \n",
       "\n",
       "               Binding  \n",
       "2            Χαρτόδετο  \n",
       "3      Μαλακό εξώφυλλο  \n",
       "5            Χαρτόδετο  \n",
       "6      Σκληρό εξώφυλλο  \n",
       "8            Χαρτόδετο  \n",
       "...                ...  \n",
       "11818        Χαρτόδετο  \n",
       "11820        Χαρτόδετο  \n",
       "11821       Σκληρόδετο  \n",
       "11822       Σκληρόδετο  \n",
       "11824        Χαρτόδετο  \n",
       "\n",
       "[33022 rows x 11 columns]"
      ]
     },
     "execution_count": 138,
     "metadata": {},
     "output_type": "execute_result"
    }
   ],
   "source": [
    "df1"
   ]
  },
  {
   "cell_type": "code",
   "execution_count": 139,
   "metadata": {
    "collapsed": false,
    "jupyter": {
     "outputs_hidden": false
    },
    "pycharm": {
     "name": "#%%\n"
    }
   },
   "outputs": [],
   "source": [
    "df1.to_csv('../data/Books_final(cleaned).csv', index=False)"
   ]
  }
 ],
 "metadata": {
  "kernelspec": {
   "display_name": "Python 3",
   "language": "python",
   "name": "python3"
  },
  "language_info": {
   "codemirror_mode": {
    "name": "ipython",
    "version": 3
   },
   "file_extension": ".py",
   "mimetype": "text/x-python",
   "name": "python",
   "nbconvert_exporter": "python",
   "pygments_lexer": "ipython3",
   "version": "3.8.8"
  }
 },
 "nbformat": 4,
 "nbformat_minor": 4
}
