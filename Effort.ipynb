{
 "cells": [
  {
   "cell_type": "code",
   "execution_count": 1,
   "id": "0d885602",
   "metadata": {},
   "outputs": [],
   "source": [
    "import gower, random, re, requests\n",
    "import matplotlib.pyplot as plt\n",
    "import numpy as np\n",
    "import pandas as pd\n",
    "import seaborn as sns\n",
    "from bs4 import BeautifulSoup\n",
    "from datetime import datetime, timedelta\n",
    "from sklearn.cluster import DBSCAN\n",
    "from time import sleep, time\n",
    "from tqdm.notebook import tqdm\n",
    "from sklearn.cluster import KMeans\n",
    "from matplotlib import cm\n",
    "from sklearn.manifold import TSNE\n",
    "from sklearn.datasets import make_blobs\n",
    "from sklearn.metrics import silhouette_samples, silhouette_score\n",
    "from scipy.cluster.hierarchy import linkage, fcluster, dendrogram\n",
    "from pyclustering.cluster.kmedoids import kmedoids\n",
    "from scipy.spatial.distance import pdist,squareform"
   ]
  },
  {
   "cell_type": "code",
   "execution_count": null,
   "id": "3bc761b1",
   "metadata": {},
   "outputs": [],
   "source": [
    "main_link = 'https://www.captainbook.gr/bookstore/year/2019?page='\n",
    "for_p = soup.find_all('ul', \n",
    "                      class_='pagination justify-content-end')[0].find('li', \n",
    "                                                                        class_=\"page_item d-flex align-items-center\")\n",
    "max_pages = for_p.find_all('a')[-2].get_text()\n",
    "books, price_old, price_new, price_discount, publisher, links = [], [], [], [], [], []\n",
    "for page in tqdm(range(1, int(max_pages)+1)):\n",
    "    response = requests.get(main_link+str(page), headers = headers)\n",
    "    if response.status_code == 200:\n",
    "        soup = BeautifulSoup(response.content, 'html.parser')\n",
    "        titles = soup.find_all('h1')\n",
    "        prices = soup.find_all('div', class_='price p-0 d-flex mb-2 align-items-center justify-content-between')\n",
    "        publ = soup.find_all('h2', class_='p-0')\n",
    "        for i in range(12):\n",
    "            try: \n",
    "                price_old.append(prices[i].find_all('span', class_=\"old-price p-0\")[0].get_text().strip())\n",
    "            except:\n",
    "                price_old.append(np.nan)\n",
    "            try:\n",
    "                price_new.append(prices[i].find_all('span', class_=\"new-price p-0\")[0].get_text().strip())\n",
    "            except:\n",
    "                price_new.append(np.nan)\n",
    "            try:\n",
    "                price_discount.append(prices[i].find_all('small', class_=\"p-0\")[0].get_text().strip())\n",
    "            except:\n",
    "                price_discount.append(np.nan)\n",
    "            try:\n",
    "                publisher.append(publ[i].get_text().strip())\n",
    "            except:\n",
    "                publisher.append(np.nan)\n",
    "            try:\n",
    "                books.append(titles[i].get_text().strip())\n",
    "            except:\n",
    "                books.append(np.nan)\n",
    "            try:\n",
    "                links.append(titles[i].find('a', class_=\"p-0 js-title productClickTracker\").get('href'))\n",
    "            except:\n",
    "                links.append(np.nan)\n",
    "    else:\n",
    "        print('You got caught!')\n",
    "        break\n",
    "    sleep(random.random())"
   ]
  },
  {
   "cell_type": "code",
   "execution_count": null,
   "id": "214bb095",
   "metadata": {},
   "outputs": [],
   "source": [
    "df2019 = pd.DataFrame({'Title': books,\n",
    "                       'Price_Old': price_old,\n",
    "                       'Discount': price_discount,\n",
    "                       'Price_New': price_new,\n",
    "                       'Publisher': publisher,\n",
    "                       'Link': links,\n",
    "                       'Year': 2019})\n",
    "df2019"
   ]
  },
  {
   "cell_type": "code",
   "execution_count": null,
   "id": "947c6b41",
   "metadata": {},
   "outputs": [],
   "source": [
    "df2019.info()"
   ]
  },
  {
   "cell_type": "code",
   "execution_count": null,
   "id": "d4d26847",
   "metadata": {},
   "outputs": [],
   "source": [
    "df2019.to_csv('Books2019.csv', index = False)"
   ]
  },
  {
   "cell_type": "code",
   "execution_count": null,
   "id": "4f426767",
   "metadata": {},
   "outputs": [],
   "source": [
    "main_link = 'https://www.captainbook.gr/bookstore/year/2018?page='\n",
    "headers = {'User-agent': ''}\n",
    "response = requests.get(main_link, headers = headers)\n",
    "if response.status_code == 403:\n",
    "    print('you got cought!')\n",
    "soup = BeautifulSoup(response.content, 'html.parser')\n",
    "for_p = soup.find_all('ul', \n",
    "                      class_='pagination justify-content-end')[0].find('li', \n",
    "                                                                        class_=\"page_item d-flex align-items-center\")\n",
    "max_pages = for_p.find_all('a')[-2].get_text()\n",
    "books, price_old, price_new, price_discount, publisher, links = [], [], [], [], [], []\n",
    "for page in tqdm(range(1, int(max_pages)+1)):\n",
    "    response = requests.get(main_link+str(page), headers = headers)\n",
    "    if response.status_code == 200:\n",
    "        soup = BeautifulSoup(response.content, 'html.parser')\n",
    "        titles = soup.find_all('h1')\n",
    "        prices = soup.find_all('div', class_='price p-0 d-flex mb-2 align-items-center justify-content-between')\n",
    "        publ = soup.find_all('h2', class_='p-0')\n",
    "        for i in range(12):\n",
    "            try: \n",
    "                price_old.append(prices[i].find_all('span', class_=\"old-price p-0\")[0].get_text().strip())\n",
    "            except:\n",
    "                price_old.append(np.nan)\n",
    "            try:\n",
    "                price_new.append(prices[i].find_all('span', class_=\"new-price p-0\")[0].get_text().strip())\n",
    "            except:\n",
    "                price_new.append(np.nan)\n",
    "            try:\n",
    "                price_discount.append(prices[i].find_all('small', class_=\"p-0\")[0].get_text().strip())\n",
    "            except:\n",
    "                price_discount.append(np.nan)\n",
    "            try:\n",
    "                publisher.append(publ[i].get_text().strip())\n",
    "            except:\n",
    "                publisher.append(np.nan)\n",
    "            try:\n",
    "                books.append(titles[i].get_text().strip())\n",
    "            except:\n",
    "                books.append(np.nan)\n",
    "            try:\n",
    "                links.append(titles[i].find('a', class_=\"p-0 js-title productClickTracker\").get('href'))\n",
    "            except:\n",
    "                links.append(np.nan)\n",
    "    else:\n",
    "        print('You got caught!')\n",
    "        break\n",
    "    sleep(random.random())"
   ]
  },
  {
   "cell_type": "code",
   "execution_count": null,
   "id": "0c8c78dc",
   "metadata": {},
   "outputs": [],
   "source": [
    "df2018 = pd.DataFrame({'Title': books,\n",
    "                       'Price_Old': price_old,\n",
    "                       'Discount': price_discount,\n",
    "                       'Price_New': price_new,\n",
    "                       'Publisher': publisher,\n",
    "                       'Link': links,\n",
    "                       'Year': 2018})\n",
    "df2018"
   ]
  },
  {
   "cell_type": "code",
   "execution_count": null,
   "id": "951502d5",
   "metadata": {},
   "outputs": [],
   "source": [
    "df2018.info()"
   ]
  },
  {
   "cell_type": "code",
   "execution_count": null,
   "id": "520c75d7",
   "metadata": {},
   "outputs": [],
   "source": [
    "df2018.to_csv('Books2018.csv', index = False)"
   ]
  },
  {
   "cell_type": "code",
   "execution_count": null,
   "id": "8149b5f6",
   "metadata": {},
   "outputs": [],
   "source": [
    "main_link = 'https://www.captainbook.gr/bookstore/year/2016?page='\n",
    "headers = {'User-agent': ''}\n",
    "response = requests.get(main_link, headers = headers)\n",
    "if response.status_code == 403:\n",
    "    print('you got cought!')\n",
    "soup = BeautifulSoup(response.content, 'html.parser')\n",
    "for_p = soup.find_all('ul', \n",
    "                      class_='pagination justify-content-end')[0].find('li', \n",
    "                                                                        class_=\"page_item d-flex align-items-center\")\n",
    "max_pages = for_p.find_all('a')[-2].get_text()\n",
    "books, price_old, price_new, price_discount, publisher, links = [], [], [], [], [], []"
   ]
  },
  {
   "cell_type": "code",
   "execution_count": null,
   "id": "fe0be1da",
   "metadata": {},
   "outputs": [],
   "source": [
    "for page in tqdm(range(1, int(max_pages)+1)):\n",
    "    response = requests.get(main_link+str(page), headers = headers)\n",
    "    if response.status_code == 200:\n",
    "        soup = BeautifulSoup(response.content, 'html.parser')\n",
    "        titles = soup.find_all('h1')\n",
    "        prices = soup.find_all('div', class_='price p-0 d-flex mb-2 align-items-center justify-content-between')\n",
    "        publ = soup.find_all('h2', class_='p-0')\n",
    "        for i in range(12):\n",
    "            try: \n",
    "                price_old.append(prices[i].find_all('span', class_=\"old-price p-0\")[0].get_text().strip())\n",
    "            except:\n",
    "                price_old.append(np.nan)\n",
    "            try:\n",
    "                price_new.append(prices[i].find_all('span', class_=\"new-price p-0\")[0].get_text().strip())\n",
    "            except:\n",
    "                price_new.append(np.nan)\n",
    "            try:\n",
    "                price_discount.append(prices[i].find_all('small', class_=\"p-0\")[0].get_text().strip())\n",
    "            except:\n",
    "                price_discount.append(np.nan)\n",
    "            try:\n",
    "                publisher.append(publ[i].get_text().strip())\n",
    "            except:\n",
    "                publisher.append(np.nan)\n",
    "            try:\n",
    "                books.append(titles[i].get_text().strip())\n",
    "            except:\n",
    "                books.append(np.nan)\n",
    "            try:\n",
    "                links.append(titles[i].find('a', class_=\"p-0 js-title productClickTracker\").get('href'))\n",
    "            except:\n",
    "                links.append(np.nan)\n",
    "    else:\n",
    "        print('You got caught!')\n",
    "        break\n",
    "    sleep(random.uniform(0, 3))"
   ]
  },
  {
   "cell_type": "code",
   "execution_count": null,
   "id": "14862b1b",
   "metadata": {},
   "outputs": [],
   "source": [
    "df2016 = pd.DataFrame({'Title': books,\n",
    "                       'Price_Old': price_old,\n",
    "                       'Discount': price_discount,\n",
    "                       'Price_New': price_new,\n",
    "                       'Publisher': publisher,\n",
    "                       'Link': links,\n",
    "                       'Year': 2016})\n",
    "df2016"
   ]
  },
  {
   "cell_type": "code",
   "execution_count": null,
   "id": "593342c7",
   "metadata": {},
   "outputs": [],
   "source": [
    "df2016 = pd.read_csv('Books2016.csv')\n",
    "df2016.info()"
   ]
  },
  {
   "cell_type": "code",
   "execution_count": null,
   "id": "5cec0182",
   "metadata": {},
   "outputs": [],
   "source": [
    "df2016.head()"
   ]
  },
  {
   "cell_type": "code",
   "execution_count": null,
   "id": "48d42c8d",
   "metadata": {},
   "outputs": [],
   "source": [
    "category = []\n",
    "ISBN = []\n",
    "pages = []\n",
    "binding = []"
   ]
  },
  {
   "cell_type": "code",
   "execution_count": null,
   "id": "9d03c2b9",
   "metadata": {},
   "outputs": [],
   "source": [
    "headers = {'User-agent': ''}"
   ]
  },
  {
   "cell_type": "code",
   "execution_count": null,
   "id": "42852aaf",
   "metadata": {
    "scrolled": true
   },
   "outputs": [],
   "source": [
    "for link in tqdm(df2016.iloc[366:, 5]):\n",
    "    try:\n",
    "        response = requests.get(link, headers = headers)\n",
    "        if response.status_code == 200:\n",
    "            soup1 = BeautifulSoup(response.content, 'html.parser')\n",
    "            body = soup1.find('div', class_ = 'fading col-md-12 p-0').find_all('div', class_ = 'td')\n",
    "            body1 = soup1.find_all('li', class_ = 'py-2 d-flex justify-content-between')\n",
    "            try:\n",
    "                count1 = 0\n",
    "                count2 = 0\n",
    "                count3 = 0\n",
    "                count4 = 0\n",
    "                for bod in body1:\n",
    "                    if re.search(r'Κατηγορίες', str(bod)):\n",
    "                        category.append(bod.get_text().strip().split('\\n')[-1])\n",
    "                        count1 += 1\n",
    "                    elif re.search(r'ISBN', str(bod)):\n",
    "                        ISBN.append(bod.get_text().strip().split('\\n')[-1])\n",
    "                        count2 += 1\n",
    "                for i in range(len(body)):\n",
    "                    if re.search(r'Σελίδες', str(body[i])):\n",
    "                        pages.append(body[i+1].get_text().strip())\n",
    "                        count3 += 1\n",
    "                    elif re.search(r'Δέσιμο', str(body[i])):\n",
    "                        binding.append(body[i+1].get_text().strip())\n",
    "                        count4 += 1\n",
    "                if count1 == 0:\n",
    "                    category.append(np.nan)\n",
    "                if count2 == 0:\n",
    "                    ISBN.append(np.nan)\n",
    "                if count3 == 0:\n",
    "                    pages.append(np.nan)\n",
    "                if count4 == 0:\n",
    "                    binding.append(np.nan)\n",
    "            except:\n",
    "                saved = link\n",
    "                print('dafuq')\n",
    "                break\n",
    "        else:\n",
    "            saved = link\n",
    "            print('You got caught!')\n",
    "            break\n",
    "    except:\n",
    "        category.append(np.nan)\n",
    "        ISBN.append(np.nan)\n",
    "        pages.append(np.nan)\n",
    "        binding.append(np.nan)\n",
    "        print('There is a problem here!')\n",
    "    sleep(random.uniform(1, 3))"
   ]
  },
  {
   "cell_type": "code",
   "execution_count": null,
   "id": "8522f210",
   "metadata": {},
   "outputs": [],
   "source": [
    "print(len(category), len(ISBN), len(pages), len(binding), len(df2016))"
   ]
  },
  {
   "cell_type": "code",
   "execution_count": null,
   "id": "dd3c5dd4",
   "metadata": {},
   "outputs": [],
   "source": [
    "df2016['Category'] = category\n",
    "df2016['ISBN'] = ISBN\n",
    "df2016['Pages'] = pages\n",
    "df2016['Binding'] = binding\n",
    "df2016.head()"
   ]
  },
  {
   "cell_type": "code",
   "execution_count": null,
   "id": "d206d381",
   "metadata": {},
   "outputs": [],
   "source": [
    "df2016.info()"
   ]
  },
  {
   "cell_type": "code",
   "execution_count": null,
   "id": "90332d90",
   "metadata": {},
   "outputs": [],
   "source": [
    "df2016.to_csv('Books2016.csv', index = False)"
   ]
  },
  {
   "cell_type": "code",
   "execution_count": 2,
   "id": "a11a1901",
   "metadata": {},
   "outputs": [
    {
     "name": "stdout",
     "output_type": "stream",
     "text": [
      "<class 'pandas.core.frame.DataFrame'>\n",
      "RangeIndex: 33022 entries, 0 to 33021\n",
      "Data columns (total 12 columns):\n",
      " #   Column      Non-Null Count  Dtype  \n",
      "---  ------      --------------  -----  \n",
      " 0   Unnamed: 0  33022 non-null  int64  \n",
      " 1   Title       33022 non-null  object \n",
      " 2   Price_Old   33022 non-null  float64\n",
      " 3   Discount    33022 non-null  float64\n",
      " 4   Price_New   33022 non-null  float64\n",
      " 5   Author      33022 non-null  object \n",
      " 6   Link        33022 non-null  object \n",
      " 7   Year        33022 non-null  int64  \n",
      " 8   Category    33022 non-null  object \n",
      " 9   ISBN        33022 non-null  int64  \n",
      " 10  Pages       33022 non-null  float64\n",
      " 11  Binding     33022 non-null  object \n",
      "dtypes: float64(4), int64(3), object(5)\n",
      "memory usage: 3.0+ MB\n"
     ]
    }
   ],
   "source": [
    "df = pd.read_csv('Books_finalcleaned.csv')\n",
    "df.info()"
   ]
  },
  {
   "cell_type": "code",
   "execution_count": 3,
   "id": "3aa2b2e8",
   "metadata": {},
   "outputs": [
    {
     "data": {
      "text/html": [
       "<div>\n",
       "<style scoped>\n",
       "    .dataframe tbody tr th:only-of-type {\n",
       "        vertical-align: middle;\n",
       "    }\n",
       "\n",
       "    .dataframe tbody tr th {\n",
       "        vertical-align: top;\n",
       "    }\n",
       "\n",
       "    .dataframe thead th {\n",
       "        text-align: right;\n",
       "    }\n",
       "</style>\n",
       "<table border=\"1\" class=\"dataframe\">\n",
       "  <thead>\n",
       "    <tr style=\"text-align: right;\">\n",
       "      <th></th>\n",
       "      <th>Unnamed: 0</th>\n",
       "      <th>Title</th>\n",
       "      <th>Price_Old</th>\n",
       "      <th>Discount</th>\n",
       "      <th>Price_New</th>\n",
       "      <th>Author</th>\n",
       "      <th>Link</th>\n",
       "      <th>Year</th>\n",
       "      <th>Category</th>\n",
       "      <th>ISBN</th>\n",
       "      <th>Pages</th>\n",
       "      <th>Binding</th>\n",
       "    </tr>\n",
       "  </thead>\n",
       "  <tbody>\n",
       "    <tr>\n",
       "      <th>0</th>\n",
       "      <td>2</td>\n",
       "      <td>Οι 5 γλώσσες της αγάπης - 2η έκδοση</td>\n",
       "      <td>15.50</td>\n",
       "      <td>0.26</td>\n",
       "      <td>11.47</td>\n",
       "      <td>Gary Chapman</td>\n",
       "      <td>https://www.captainbook.gr/book/oi-5-glosses-t...</td>\n",
       "      <td>2016</td>\n",
       "      <td>['Αυτοβοήθεια']</td>\n",
       "      <td>9789604617005</td>\n",
       "      <td>240.0</td>\n",
       "      <td>Χαρτόδετο</td>\n",
       "    </tr>\n",
       "    <tr>\n",
       "      <th>1</th>\n",
       "      <td>3</td>\n",
       "      <td>Universo Gramatical Version…</td>\n",
       "      <td>27.75</td>\n",
       "      <td>0.11</td>\n",
       "      <td>24.70</td>\n",
       "      <td>María Jesús Blázquez Lozano</td>\n",
       "      <td>https://www.captainbook.gr/book/universo-grama...</td>\n",
       "      <td>2016</td>\n",
       "      <td>['Ισπανικά']</td>\n",
       "      <td>9788498484410</td>\n",
       "      <td>320.0</td>\n",
       "      <td>Μαλακό εξώφυλλο</td>\n",
       "    </tr>\n",
       "    <tr>\n",
       "      <th>2</th>\n",
       "      <td>5</td>\n",
       "      <td>MIRRORLESS PHOTOGRAPHY</td>\n",
       "      <td>15.00</td>\n",
       "      <td>0.10</td>\n",
       "      <td>13.50</td>\n",
       "      <td>Βαγγέλης Δελέγκος</td>\n",
       "      <td>https://www.captainbook.gr/book/mirrorless-pho...</td>\n",
       "      <td>2016</td>\n",
       "      <td>['Φωτογραφία']</td>\n",
       "      <td>9789608152236</td>\n",
       "      <td>164.0</td>\n",
       "      <td>Χαρτόδετο</td>\n",
       "    </tr>\n",
       "    <tr>\n",
       "      <th>3</th>\n",
       "      <td>6</td>\n",
       "      <td>Τριγυρνώ μες στην Αθήνα</td>\n",
       "      <td>12.00</td>\n",
       "      <td>0.11</td>\n",
       "      <td>10.68</td>\n",
       "      <td>Πέτρος Χριστούλιας</td>\n",
       "      <td>https://www.captainbook.gr/book/trigurno-mes-s...</td>\n",
       "      <td>2016</td>\n",
       "      <td>['Χόμπι']</td>\n",
       "      <td>9786185116224</td>\n",
       "      <td>80.0</td>\n",
       "      <td>Σκληρό εξώφυλλο</td>\n",
       "    </tr>\n",
       "    <tr>\n",
       "      <th>4</th>\n",
       "      <td>8</td>\n",
       "      <td>Θαυματουργά Μάντρας</td>\n",
       "      <td>22.00</td>\n",
       "      <td>0.10</td>\n",
       "      <td>19.80</td>\n",
       "      <td>Pandit Gopal Sharma</td>\n",
       "      <td>https://www.captainbook.gr/book/thaumatourga-m...</td>\n",
       "      <td>2016</td>\n",
       "      <td>['Φιλοσοφία', 'Κοινωνιολογία', 'Θρησκεία']</td>\n",
       "      <td>9789604304264</td>\n",
       "      <td>208.0</td>\n",
       "      <td>Χαρτόδετο</td>\n",
       "    </tr>\n",
       "  </tbody>\n",
       "</table>\n",
       "</div>"
      ],
      "text/plain": [
       "   Unnamed: 0                                Title  Price_Old  Discount  \\\n",
       "0           2  Οι 5 γλώσσες της αγάπης - 2η έκδοση      15.50      0.26   \n",
       "1           3         Universo Gramatical Version…      27.75      0.11   \n",
       "2           5               MIRRORLESS PHOTOGRAPHY      15.00      0.10   \n",
       "3           6              Τριγυρνώ μες στην Αθήνα      12.00      0.11   \n",
       "4           8                  Θαυματουργά Μάντρας      22.00      0.10   \n",
       "\n",
       "   Price_New                       Author  \\\n",
       "0      11.47                 Gary Chapman   \n",
       "1      24.70  María Jesús Blázquez Lozano   \n",
       "2      13.50            Βαγγέλης Δελέγκος   \n",
       "3      10.68           Πέτρος Χριστούλιας   \n",
       "4      19.80          Pandit Gopal Sharma   \n",
       "\n",
       "                                                Link  Year  \\\n",
       "0  https://www.captainbook.gr/book/oi-5-glosses-t...  2016   \n",
       "1  https://www.captainbook.gr/book/universo-grama...  2016   \n",
       "2  https://www.captainbook.gr/book/mirrorless-pho...  2016   \n",
       "3  https://www.captainbook.gr/book/trigurno-mes-s...  2016   \n",
       "4  https://www.captainbook.gr/book/thaumatourga-m...  2016   \n",
       "\n",
       "                                     Category           ISBN  Pages  \\\n",
       "0                             ['Αυτοβοήθεια']  9789604617005  240.0   \n",
       "1                                ['Ισπανικά']  9788498484410  320.0   \n",
       "2                              ['Φωτογραφία']  9789608152236  164.0   \n",
       "3                                   ['Χόμπι']  9786185116224   80.0   \n",
       "4  ['Φιλοσοφία', 'Κοινωνιολογία', 'Θρησκεία']  9789604304264  208.0   \n",
       "\n",
       "           Binding  \n",
       "0        Χαρτόδετο  \n",
       "1  Μαλακό εξώφυλλο  \n",
       "2        Χαρτόδετο  \n",
       "3  Σκληρό εξώφυλλο  \n",
       "4        Χαρτόδετο  "
      ]
     },
     "execution_count": 3,
     "metadata": {},
     "output_type": "execute_result"
    }
   ],
   "source": [
    "df.head()"
   ]
  },
  {
   "cell_type": "code",
   "execution_count": 4,
   "id": "5c8df241",
   "metadata": {},
   "outputs": [
    {
     "name": "stdout",
     "output_type": "stream",
     "text": [
      "{2016, 2017, 2018, 2019, 2020}\n"
     ]
    }
   ],
   "source": [
    "print(set(df['Year']))"
   ]
  },
  {
   "cell_type": "code",
   "execution_count": 5,
   "id": "224961c0",
   "metadata": {},
   "outputs": [
    {
     "data": {
      "text/plain": [
       "5"
      ]
     },
     "execution_count": 5,
     "metadata": {},
     "output_type": "execute_result"
    }
   ],
   "source": [
    "len(set(df['Year']))"
   ]
  },
  {
   "cell_type": "code",
   "execution_count": 6,
   "id": "38a17441",
   "metadata": {},
   "outputs": [
    {
     "name": "stdout",
     "output_type": "stream",
     "text": [
      "{\"['ΕφηβικήΛογοτεχνία']\", \"['Πολιτική', 'Οικονομία']\", \"['Εθνολογία']\", \"['Χάρτες']\", \"['Ημερολόγια', 'Σημειωματάρια']\", \"['Αγγλικά']\", \"['Φωτογραφία']\", \"['Μυθολογία']\", \"['Αυτοβοήθεια']\", \"['Χάρτες', 'Οδηγοί', 'Ταξίδια']\", \"['ΤαξιδιωτικήΛογοτεχνία']\", \"['ΑνατολικήΣκέψη']\", \"['Αρχιτεκτονική']\", \"['Μυθιστόρημα']\", \"['Διατροφή']\", \"['Νομική']\", \"['ΑρχαίαΕλληνικήΓραμματεία']\", \"['Ανθρωπολογία']\", \"['Πληροφορική']\", \"['Δοκίμια']\", \"['ΑρχαίοιΈλληνεςΦιλόσοφοι']\", \"['ΕλεύθεροςΧρόνος', 'Μαγειρική', 'Αθλητισμός']\", \"['Νουβέλα']\", \"['ΕκλαϊκευμένηΕπιστήμη']\", \"['Θέατρο']\", \"['ΜεταφρασμένηΠοίηση']\", \"['ΕργασιακέςΣχέσεις']\", \"['Ψυχιατρική']\", \"['Μεταφυσική', 'Αποκρυφισμός']\", \"['Ιστορία']\", \"['Δραστηριοτήτων', 'Διαδραστικά']\", \"['Τέχνες', 'Θέατρο', 'Κινηματογράφος']\", \"['Γλωσσολογία']\", \"['ΚλασικήΠεζογραφία']\", \"['Διήγημα']\", \"['ΠροσχολικήΗλικία']\", \"['Χριστιανισμός']\", \"['Οικονομικά']\", \"['Σχέσεις', 'Γάμος', 'Οικογένεια']\", \"['ΚοινωνικάΠροβλήματα']\", \"['Εκπαίδευση', 'Παιδαγωγική']\", \"['Αυτοβιογραφίες']\", \"['Νεότερη&ΣύγχρονηΕλληνικήΙστορία']\", \"['Παραμύθια']\", \"['ΚλασικήΦιλολογία']\", \"['Κρασί', 'Ποτό']\", \"['ΕυρωπαϊκήΦιλοσοφία']\", \"['ΣχολικάΒοηθήματα', 'ΞένεςΓλώσσες']\", \"['ΕλληνικήΓλώσσα']\", \"['ΤαξιδιωτικοίΟδηγοί']\", \"['Ψυχολογία', 'Ψυχανάλυση']\", \"['Γαλλικά']\", \"['Βιογραφίες']\", \"['ΕλληνικήΕπανάσταση']\", \"['ΕλληνικήΠοίηση']\", \"['Μουσική']\", \"['Μύθοι']\", \"['Γυμνάσιο']\", \"['Ιατρική']\", \"['Ζωγραφική']\", \"['ΙσότηταΦύλων']\", \"['Παιδικά', 'Εφηβικά']\", \"['ΠαγκόσμιαΙστορία']\", \"['Φυσική', 'Μαθηματικά']\", \"['ΒυζαντινήΓραμματεία']\", \"['Βυζάντιο']\", \"['Αθλητισμός']\", \"['ΓιαΜωρά']\", \"['ΕναλλακτικέςΘεραπείες']\", \"['Φυσικές&ΘετικέςΕπιστήμες', 'Τεχνικά']\", \"['Ισπανικά']\", \"['Ξενόγλωσσα']\", \"['Λεξικά&Εγκυκλοπαίδειες']\", \"['ΛατινικήΓραμματεία']\", \"['Μαρτυρίες']\", \"['Λύκειο']\", \"['Πεζογραφία']\", \"['Γερμανικά']\", \"['Φιλοσοφία', 'Κοινωνιολογία', 'Θρησκεία']\", \"['Δημοτικό']\", \"['Χόμπι']\", \"['ΓενικάΛεξικά']\", \"['Συνταγές']\", \"['Κόμιξ', 'GraphicNovels']\", \"['Χορός']\", \"['Ποίηση']\", \"['Προϊστορία']\", \"['Κινηματογράφος']\"}\n"
     ]
    }
   ],
   "source": [
    "print(set(df['Category']))"
   ]
  },
  {
   "cell_type": "code",
   "execution_count": 7,
   "id": "e3c72887",
   "metadata": {},
   "outputs": [
    {
     "data": {
      "text/plain": [
       "88"
      ]
     },
     "execution_count": 7,
     "metadata": {},
     "output_type": "execute_result"
    }
   ],
   "source": [
    "len(set(df['Category']))"
   ]
  },
  {
   "cell_type": "code",
   "execution_count": 8,
   "id": "1d18f360",
   "metadata": {},
   "outputs": [
    {
     "name": "stdout",
     "output_type": "stream",
     "text": [
      "{'Διαστάσεις:', 'Μαλακό εξώφυλλο', 'eBook', 'Σετ προϊόντων', 'CD-Extra', 'Βιβλίο (άγνωστο δέσιμο)', 'Παιδικό σε χοντρό χαρτόνι', 'Χαρτόδετο', 'Δερματόδετο', 'Κάρτες', 'Σετ προιόντων σε κουτί', 'Άγνωστο Δέσιμο', 'Ψηφιακή μεταφόρτωση', 'Σπιράλ', 'Παιδικό βιβλίο με αφρώδες εξώφυλλο', 'Μεγάλης διάστασης βιβλίο', 'Πανόδετο', 'Βιβλίο άλλου δεσίματος', 'Ημερολόγιο', 'Αδιάβροχο βιβλίο', 'Αλμπουμ', 'Σκληρόδετο', 'Βιβλίο', 'Σετ προιόντων σε σελοφάν κενού', 'Μαλακό Εξώφυλλο', 'Ηχητικό σε CD', 'Αφίσα', 'Άδετο', 'Σκληρό εξώφυλλο', 'Υφασμάτινο βιβλίο', 'Σετ προιόντων', 'Σετ προϊόντων σε κουτί', 'Σπειροειδές', 'Καινοτόμο βιβλίο', 'Καρφίτσα / Brochure', 'EPUB'}\n"
     ]
    }
   ],
   "source": [
    "print(set(df['Binding']))"
   ]
  },
  {
   "cell_type": "code",
   "execution_count": 9,
   "id": "81d0539b",
   "metadata": {},
   "outputs": [
    {
     "data": {
      "text/plain": [
       "36"
      ]
     },
     "execution_count": 9,
     "metadata": {},
     "output_type": "execute_result"
    }
   ],
   "source": [
    "len(set(df['Binding']))"
   ]
  },
  {
   "cell_type": "code",
   "execution_count": 10,
   "id": "48ed276d",
   "metadata": {},
   "outputs": [
    {
     "data": {
      "text/plain": [
       "Unnamed: 0    11826\n",
       "Title         31436\n",
       "Price_Old      1278\n",
       "Discount         36\n",
       "Price_New      2109\n",
       "Author        18744\n",
       "Link          33022\n",
       "Year              5\n",
       "Category         88\n",
       "ISBN          33003\n",
       "Pages          1037\n",
       "Binding          36\n",
       "dtype: int64"
      ]
     },
     "execution_count": 10,
     "metadata": {},
     "output_type": "execute_result"
    }
   ],
   "source": [
    "df.nunique()"
   ]
  },
  {
   "cell_type": "code",
   "execution_count": 11,
   "id": "17f019b5",
   "metadata": {},
   "outputs": [
    {
     "data": {
      "text/html": [
       "<div>\n",
       "<style scoped>\n",
       "    .dataframe tbody tr th:only-of-type {\n",
       "        vertical-align: middle;\n",
       "    }\n",
       "\n",
       "    .dataframe tbody tr th {\n",
       "        vertical-align: top;\n",
       "    }\n",
       "\n",
       "    .dataframe thead th {\n",
       "        text-align: right;\n",
       "    }\n",
       "</style>\n",
       "<table border=\"1\" class=\"dataframe\">\n",
       "  <thead>\n",
       "    <tr style=\"text-align: right;\">\n",
       "      <th></th>\n",
       "      <th>name</th>\n",
       "      <th>num</th>\n",
       "      <th>type</th>\n",
       "    </tr>\n",
       "  </thead>\n",
       "  <tbody>\n",
       "    <tr>\n",
       "      <th>0</th>\n",
       "      <td>Unnamed: 0</td>\n",
       "      <td>11826</td>\n",
       "      <td>categorical</td>\n",
       "    </tr>\n",
       "    <tr>\n",
       "      <th>1</th>\n",
       "      <td>Title</td>\n",
       "      <td>31436</td>\n",
       "      <td>categorical</td>\n",
       "    </tr>\n",
       "    <tr>\n",
       "      <th>2</th>\n",
       "      <td>Price_Old</td>\n",
       "      <td>1278</td>\n",
       "      <td>categorical</td>\n",
       "    </tr>\n",
       "    <tr>\n",
       "      <th>3</th>\n",
       "      <td>Discount</td>\n",
       "      <td>36</td>\n",
       "      <td>categorical</td>\n",
       "    </tr>\n",
       "    <tr>\n",
       "      <th>4</th>\n",
       "      <td>Price_New</td>\n",
       "      <td>2109</td>\n",
       "      <td>categorical</td>\n",
       "    </tr>\n",
       "    <tr>\n",
       "      <th>5</th>\n",
       "      <td>Author</td>\n",
       "      <td>18744</td>\n",
       "      <td>categorical</td>\n",
       "    </tr>\n",
       "    <tr>\n",
       "      <th>6</th>\n",
       "      <td>Link</td>\n",
       "      <td>33022</td>\n",
       "      <td>categorical</td>\n",
       "    </tr>\n",
       "    <tr>\n",
       "      <th>7</th>\n",
       "      <td>Year</td>\n",
       "      <td>5</td>\n",
       "      <td>categorical</td>\n",
       "    </tr>\n",
       "    <tr>\n",
       "      <th>8</th>\n",
       "      <td>Category</td>\n",
       "      <td>88</td>\n",
       "      <td>categorical</td>\n",
       "    </tr>\n",
       "    <tr>\n",
       "      <th>9</th>\n",
       "      <td>ISBN</td>\n",
       "      <td>33003</td>\n",
       "      <td>categorical</td>\n",
       "    </tr>\n",
       "    <tr>\n",
       "      <th>10</th>\n",
       "      <td>Pages</td>\n",
       "      <td>1037</td>\n",
       "      <td>categorical</td>\n",
       "    </tr>\n",
       "    <tr>\n",
       "      <th>11</th>\n",
       "      <td>Binding</td>\n",
       "      <td>36</td>\n",
       "      <td>categorical</td>\n",
       "    </tr>\n",
       "  </tbody>\n",
       "</table>\n",
       "</div>"
      ],
      "text/plain": [
       "          name    num         type\n",
       "0   Unnamed: 0  11826  categorical\n",
       "1        Title  31436  categorical\n",
       "2    Price_Old   1278  categorical\n",
       "3     Discount     36  categorical\n",
       "4    Price_New   2109  categorical\n",
       "5       Author  18744  categorical\n",
       "6         Link  33022  categorical\n",
       "7         Year      5  categorical\n",
       "8     Category     88  categorical\n",
       "9         ISBN  33003  categorical\n",
       "10       Pages   1037  categorical\n",
       "11     Binding     36  categorical"
      ]
     },
     "execution_count": 11,
     "metadata": {},
     "output_type": "execute_result"
    }
   ],
   "source": [
    "data_meta = pd.DataFrame(df.nunique(), columns = ['num'], index = None).reset_index()\n",
    "data_meta.columns = ['name', 'num']\n",
    "data_meta['type'] = 'categorical'\n",
    "data_meta"
   ]
  },
  {
   "cell_type": "code",
   "execution_count": 12,
   "id": "abfbd740",
   "metadata": {},
   "outputs": [
    {
     "data": {
      "text/html": [
       "<div>\n",
       "<style scoped>\n",
       "    .dataframe tbody tr th:only-of-type {\n",
       "        vertical-align: middle;\n",
       "    }\n",
       "\n",
       "    .dataframe tbody tr th {\n",
       "        vertical-align: top;\n",
       "    }\n",
       "\n",
       "    .dataframe thead th {\n",
       "        text-align: right;\n",
       "    }\n",
       "</style>\n",
       "<table border=\"1\" class=\"dataframe\">\n",
       "  <thead>\n",
       "    <tr style=\"text-align: right;\">\n",
       "      <th></th>\n",
       "      <th>name</th>\n",
       "      <th>num</th>\n",
       "      <th>type</th>\n",
       "    </tr>\n",
       "  </thead>\n",
       "  <tbody>\n",
       "    <tr>\n",
       "      <th>0</th>\n",
       "      <td>Unnamed: 0</td>\n",
       "      <td>11826</td>\n",
       "      <td>numerical</td>\n",
       "    </tr>\n",
       "    <tr>\n",
       "      <th>1</th>\n",
       "      <td>Title</td>\n",
       "      <td>31436</td>\n",
       "      <td>claim</td>\n",
       "    </tr>\n",
       "    <tr>\n",
       "      <th>2</th>\n",
       "      <td>Price_Old</td>\n",
       "      <td>1278</td>\n",
       "      <td>numerical</td>\n",
       "    </tr>\n",
       "    <tr>\n",
       "      <th>3</th>\n",
       "      <td>Discount</td>\n",
       "      <td>36</td>\n",
       "      <td>numerical</td>\n",
       "    </tr>\n",
       "    <tr>\n",
       "      <th>4</th>\n",
       "      <td>Price_New</td>\n",
       "      <td>2109</td>\n",
       "      <td>numerical</td>\n",
       "    </tr>\n",
       "    <tr>\n",
       "      <th>5</th>\n",
       "      <td>Author</td>\n",
       "      <td>18744</td>\n",
       "      <td>claim</td>\n",
       "    </tr>\n",
       "    <tr>\n",
       "      <th>6</th>\n",
       "      <td>Link</td>\n",
       "      <td>33022</td>\n",
       "      <td>claim</td>\n",
       "    </tr>\n",
       "    <tr>\n",
       "      <th>7</th>\n",
       "      <td>Year</td>\n",
       "      <td>5</td>\n",
       "      <td>numerical</td>\n",
       "    </tr>\n",
       "    <tr>\n",
       "      <th>8</th>\n",
       "      <td>Category</td>\n",
       "      <td>88</td>\n",
       "      <td>categorical</td>\n",
       "    </tr>\n",
       "    <tr>\n",
       "      <th>9</th>\n",
       "      <td>ISBN</td>\n",
       "      <td>33003</td>\n",
       "      <td>claim</td>\n",
       "    </tr>\n",
       "    <tr>\n",
       "      <th>10</th>\n",
       "      <td>Pages</td>\n",
       "      <td>1037</td>\n",
       "      <td>numerical</td>\n",
       "    </tr>\n",
       "    <tr>\n",
       "      <th>11</th>\n",
       "      <td>Binding</td>\n",
       "      <td>36</td>\n",
       "      <td>categorical</td>\n",
       "    </tr>\n",
       "  </tbody>\n",
       "</table>\n",
       "</div>"
      ],
      "text/plain": [
       "          name    num         type\n",
       "0   Unnamed: 0  11826    numerical\n",
       "1        Title  31436        claim\n",
       "2    Price_Old   1278    numerical\n",
       "3     Discount     36    numerical\n",
       "4    Price_New   2109    numerical\n",
       "5       Author  18744        claim\n",
       "6         Link  33022        claim\n",
       "7         Year      5    numerical\n",
       "8     Category     88  categorical\n",
       "9         ISBN  33003        claim\n",
       "10       Pages   1037    numerical\n",
       "11     Binding     36  categorical"
      ]
     },
     "execution_count": 12,
     "metadata": {},
     "output_type": "execute_result"
    }
   ],
   "source": [
    "data_meta.loc[(~data_meta['name'].isin(['Binding', 'Category'])), 'type'] = 'numerical'\n",
    "data_meta.loc[data_meta['name'].isin(['Author', 'Title', 'ISBN', 'Link']),'type'] = 'claim'\n",
    "data_meta"
   ]
  },
  {
   "cell_type": "code",
   "execution_count": 13,
   "id": "25e0af2f",
   "metadata": {},
   "outputs": [
    {
     "data": {
      "text/plain": [
       "['Category', 'Binding']"
      ]
     },
     "execution_count": 13,
     "metadata": {},
     "output_type": "execute_result"
    }
   ],
   "source": [
    "categorical_features = list(data_meta.loc[data_meta['type'] == 'categorical', 'name'])\n",
    "categorical_features"
   ]
  },
  {
   "cell_type": "code",
   "execution_count": 14,
   "id": "a74d972b",
   "metadata": {},
   "outputs": [
    {
     "data": {
      "text/plain": [
       "['Unnamed: 0', 'Price_Old', 'Discount', 'Price_New', 'Year', 'Pages']"
      ]
     },
     "execution_count": 14,
     "metadata": {},
     "output_type": "execute_result"
    }
   ],
   "source": [
    "numerical_features = list(data_meta.loc[data_meta['type'] == 'numerical', 'name'])\n",
    "numerical_features"
   ]
  },
  {
   "cell_type": "code",
   "execution_count": 15,
   "id": "1701a786",
   "metadata": {},
   "outputs": [
    {
     "name": "stdout",
     "output_type": "stream",
     "text": [
      "[False, False, False, False, False, False, False, False, True, False, False, True]\n"
     ]
    }
   ],
   "source": [
    "print([True if x in categorical_features else False for x in df.columns])"
   ]
  },
  {
   "cell_type": "code",
   "execution_count": 16,
   "id": "412f23e3",
   "metadata": {},
   "outputs": [
    {
     "name": "stdout",
     "output_type": "stream",
     "text": [
      "Wall time: 38min 17s\n"
     ]
    }
   ],
   "source": [
    "%%time\n",
    "gd = gower.gower_matrix(df)#, cat_features = [True if x in categorical_features else False for x in df.columns])"
   ]
  },
  {
   "cell_type": "code",
   "execution_count": 17,
   "id": "27c3c71b",
   "metadata": {},
   "outputs": [
    {
     "name": "stdout",
     "output_type": "stream",
     "text": [
      "Wall time: 2min 36s\n"
     ]
    },
    {
     "data": {
      "text/plain": [
       "array([0.4454172 , 0.35721394, 0.4410597 , ..., 0.38126096, 0.4323365 ,\n",
       "       0.44953072], dtype=float32)"
      ]
     },
     "execution_count": 17,
     "metadata": {},
     "output_type": "execute_result"
    }
   ],
   "source": [
    "%%time\n",
    "gdv = squareform(gd, force = 'tovector')\n",
    "gdv"
   ]
  },
  {
   "cell_type": "code",
   "execution_count": 18,
   "id": "e181c953",
   "metadata": {},
   "outputs": [
    {
     "name": "stdout",
     "output_type": "stream",
     "text": [
      "Wall time: 6min 58s\n"
     ]
    },
    {
     "data": {
      "text/plain": [
       "array([[2.64690000e+04, 2.64700000e+04, 8.33396614e-02, 2.00000000e+00],\n",
       "       [2.64630000e+04, 2.64640000e+04, 8.33396614e-02, 2.00000000e+00],\n",
       "       [2.64610000e+04, 2.64620000e+04, 8.33396614e-02, 2.00000000e+00],\n",
       "       ...,\n",
       "       [6.60260000e+04, 6.60330000e+04, 7.19772339e-01, 7.93000000e+02],\n",
       "       [6.60380000e+04, 6.60390000e+04, 7.70575225e-01, 3.22290000e+04],\n",
       "       [6.60400000e+04, 6.60410000e+04, 8.23979259e-01, 3.30220000e+04]])"
      ]
     },
     "execution_count": 18,
     "metadata": {},
     "output_type": "execute_result"
    }
   ],
   "source": [
    "%%time\n",
    "Z = linkage(gdv, method = 'complete')\n",
    "Z"
   ]
  },
  {
   "cell_type": "code",
   "execution_count": 20,
   "id": "88b385cd",
   "metadata": {},
   "outputs": [
    {
     "data": {
      "text/html": [
       "<div>\n",
       "<style scoped>\n",
       "    .dataframe tbody tr th:only-of-type {\n",
       "        vertical-align: middle;\n",
       "    }\n",
       "\n",
       "    .dataframe tbody tr th {\n",
       "        vertical-align: top;\n",
       "    }\n",
       "\n",
       "    .dataframe thead th {\n",
       "        text-align: right;\n",
       "    }\n",
       "</style>\n",
       "<table border=\"1\" class=\"dataframe\">\n",
       "  <thead>\n",
       "    <tr style=\"text-align: right;\">\n",
       "      <th></th>\n",
       "      <th>id1</th>\n",
       "      <th>id2</th>\n",
       "      <th>dist</th>\n",
       "      <th>n</th>\n",
       "    </tr>\n",
       "  </thead>\n",
       "  <tbody>\n",
       "    <tr>\n",
       "      <th>0</th>\n",
       "      <td>26469.0</td>\n",
       "      <td>26470.0</td>\n",
       "      <td>0.083340</td>\n",
       "      <td>2.0</td>\n",
       "    </tr>\n",
       "    <tr>\n",
       "      <th>1</th>\n",
       "      <td>26463.0</td>\n",
       "      <td>26464.0</td>\n",
       "      <td>0.083340</td>\n",
       "      <td>2.0</td>\n",
       "    </tr>\n",
       "    <tr>\n",
       "      <th>2</th>\n",
       "      <td>26461.0</td>\n",
       "      <td>26462.0</td>\n",
       "      <td>0.083340</td>\n",
       "      <td>2.0</td>\n",
       "    </tr>\n",
       "    <tr>\n",
       "      <th>3</th>\n",
       "      <td>6586.0</td>\n",
       "      <td>6587.0</td>\n",
       "      <td>0.083340</td>\n",
       "      <td>2.0</td>\n",
       "    </tr>\n",
       "    <tr>\n",
       "      <th>4</th>\n",
       "      <td>569.0</td>\n",
       "      <td>570.0</td>\n",
       "      <td>0.083340</td>\n",
       "      <td>2.0</td>\n",
       "    </tr>\n",
       "    <tr>\n",
       "      <th>...</th>\n",
       "      <td>...</td>\n",
       "      <td>...</td>\n",
       "      <td>...</td>\n",
       "      <td>...</td>\n",
       "    </tr>\n",
       "    <tr>\n",
       "      <th>33016</th>\n",
       "      <td>66035.0</td>\n",
       "      <td>66037.0</td>\n",
       "      <td>0.688154</td>\n",
       "      <td>22018.0</td>\n",
       "    </tr>\n",
       "    <tr>\n",
       "      <th>33017</th>\n",
       "      <td>66034.0</td>\n",
       "      <td>66036.0</td>\n",
       "      <td>0.716689</td>\n",
       "      <td>10211.0</td>\n",
       "    </tr>\n",
       "    <tr>\n",
       "      <th>33018</th>\n",
       "      <td>66026.0</td>\n",
       "      <td>66033.0</td>\n",
       "      <td>0.719772</td>\n",
       "      <td>793.0</td>\n",
       "    </tr>\n",
       "    <tr>\n",
       "      <th>33019</th>\n",
       "      <td>66038.0</td>\n",
       "      <td>66039.0</td>\n",
       "      <td>0.770575</td>\n",
       "      <td>32229.0</td>\n",
       "    </tr>\n",
       "    <tr>\n",
       "      <th>33020</th>\n",
       "      <td>66040.0</td>\n",
       "      <td>66041.0</td>\n",
       "      <td>0.823979</td>\n",
       "      <td>33022.0</td>\n",
       "    </tr>\n",
       "  </tbody>\n",
       "</table>\n",
       "<p>33021 rows × 4 columns</p>\n",
       "</div>"
      ],
      "text/plain": [
       "           id1      id2      dist        n\n",
       "0      26469.0  26470.0  0.083340      2.0\n",
       "1      26463.0  26464.0  0.083340      2.0\n",
       "2      26461.0  26462.0  0.083340      2.0\n",
       "3       6586.0   6587.0  0.083340      2.0\n",
       "4        569.0    570.0  0.083340      2.0\n",
       "...        ...      ...       ...      ...\n",
       "33016  66035.0  66037.0  0.688154  22018.0\n",
       "33017  66034.0  66036.0  0.716689  10211.0\n",
       "33018  66026.0  66033.0  0.719772    793.0\n",
       "33019  66038.0  66039.0  0.770575  32229.0\n",
       "33020  66040.0  66041.0  0.823979  33022.0\n",
       "\n",
       "[33021 rows x 4 columns]"
      ]
     },
     "execution_count": 20,
     "metadata": {},
     "output_type": "execute_result"
    }
   ],
   "source": [
    "Z_df = pd.DataFrame(Z, columns = ['id1', 'id2', 'dist', 'n'])\n",
    "Z_df"
   ]
  },
  {
   "cell_type": "code",
   "execution_count": null,
   "id": "df517141",
   "metadata": {},
   "outputs": [],
   "source": [
    "%%time\n",
    "fig, axs = plt.subplots(1, 1, figsize = (25, 5))"
   ]
  },
  {
   "cell_type": "code",
   "execution_count": null,
   "id": "3301404c",
   "metadata": {},
   "outputs": [],
   "source": [
    "%%time\n",
    "dn = dendrogram(Z, truncate_mode = 'level', p = 5, show_leaf_counts = True, ax = axs);"
   ]
  },
  {
   "cell_type": "code",
   "execution_count": null,
   "id": "053e4f85",
   "metadata": {},
   "outputs": [],
   "source": [
    "print(len(dn['leaves']))"
   ]
  }
 ],
 "metadata": {
  "kernelspec": {
   "display_name": "Python 3",
   "language": "python",
   "name": "python3"
  },
  "language_info": {
   "codemirror_mode": {
    "name": "ipython",
    "version": 3
   },
   "file_extension": ".py",
   "mimetype": "text/x-python",
   "name": "python",
   "nbconvert_exporter": "python",
   "pygments_lexer": "ipython3",
   "version": "3.7.11"
  }
 },
 "nbformat": 4,
 "nbformat_minor": 5
}
