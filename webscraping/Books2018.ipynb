{
 "cells": [
  {
   "cell_type": "code",
   "execution_count": 1,
   "id": "cce68348-0f27-427b-ad64-5776e5f5e9d9",
   "metadata": {},
   "outputs": [],
   "source": [
    "import requests\n",
    "from bs4 import BeautifulSoup as bs\n",
    "from  tqdm.notebook import tqdm\n",
    "import pandas as pd\n",
    "import numpy as np\n",
    "\n",
    "import matplotlib.pyplot as plt\n",
    "import seaborn as sns\n",
    "import plotly.express as px\n",
    "%matplotlib inline\n",
    "\n",
    "import random\n",
    "\n",
    "import time\n",
    "import re"
   ]
  },
  {
   "cell_type": "code",
   "execution_count": 2,
   "id": "c8b25e97-4191-40a0-be6e-ed62e21edf27",
   "metadata": {},
   "outputs": [],
   "source": [
    "main_link='https://www.captainbook.gr/bookstore/year/2016?page='\n",
    "\n",
    "headers = {'User-agent': ''}\n",
    "\n",
    "response = requests.get(main_link, headers=headers)\n",
    "\n",
    "if response.status_code == 403:\n",
    "    print('you got caught!')\n"
   ]
  },
  {
   "cell_type": "code",
   "execution_count": 5,
   "id": "820df4d0",
   "metadata": {
    "collapsed": false,
    "jupyter": {
     "outputs_hidden": false
    },
    "pycharm": {
     "name": "#%%\n"
    }
   },
   "outputs": [],
   "source": [
    "soup = bs(response.content, 'html.parser')"
   ]
  },
  {
   "cell_type": "code",
   "execution_count": 216,
   "id": "8eb4be0e-a44d-4606-b639-8ef866c1f9a6",
   "metadata": {},
   "outputs": [],
   "source": [
    "for_p = soup.find_all('ul', \n",
    "                      class_='pagination justify-content-end')[0].find('li', \n",
    "                                                                      class_=\"page_item d-flex align-items-center\")\n",
    "\n",
    "max_pages = for_p.find_all('a')[-2].get_text()"
   ]
  },
  {
   "cell_type": "code",
   "execution_count": 217,
   "id": "14fdd792-8abf-4652-8bdd-258d18b44261",
   "metadata": {},
   "outputs": [],
   "source": [
    "books = []\n",
    "publisher = []\n",
    "links = []"
   ]
  },
  {
   "cell_type": "code",
   "execution_count": 247,
   "id": "4da895d7-400f-4b72-b78f-b1f7dd521222",
   "metadata": {},
   "outputs": [],
   "source": [
    "price_old = []\n",
    "price_new = []\n",
    "price_discount = []"
   ]
  },
  {
   "cell_type": "code",
   "execution_count": 255,
   "id": "2fddf8d6-01f4-44f1-9b2c-5a959dacbcb1",
   "metadata": {},
   "outputs": [
    {
     "data": {
      "application/vnd.jupyter.widget-view+json": {
       "model_id": "ef8dcc823eae4213b89a3c8811f1486b",
       "version_major": 2,
       "version_minor": 0
      },
      "text/plain": [
       "  0%|          | 0/446 [00:00<?, ?it/s]"
      ]
     },
     "metadata": {},
     "output_type": "display_data"
    }
   ],
   "source": [
    "for page in tqdm(range(541,int(max_pages)+1)):\n",
    "    response = requests.get(main_link+str(page), headers = headers)\n",
    "    if response.status_code == 200:\n",
    "        soup = bs(response.content, 'html.parser')\n",
    "        titles = soup.find_all('h1')\n",
    "        prices = soup.find_all('div', class_='price p-0 d-flex mb-2 align-items-center justify-content-between')\n",
    "        publ = soup.find_all('h2', class_='p-0')\n",
    "        for i in range(12):\n",
    "            try: \n",
    "                price_old.append(prices[i].find_all('span', class_=\"old-price p-0\")[0].get_text().strip())\n",
    "            except:\n",
    "                price_old.append(np.nan)\n",
    "            try:\n",
    "                price_new.append(prices[i].find_all('span', class_=\"new-price p-0\")[0].get_text().strip())\n",
    "            except:\n",
    "                price_new.append(np.nan)\n",
    "            try:\n",
    "                price_discount.append(prices[i].find_all('small', class_=\"p-0\")[0].get_text().strip())\n",
    "            except:\n",
    "                price_discount.append(np.nan)\n",
    "            try:\n",
    "                publisher.append(publ[i].get_text().strip())\n",
    "            except:\n",
    "                publisher.append(np.nan)\n",
    "            try:\n",
    "                books.append(titles[i].get_text().strip())\n",
    "            except:\n",
    "                books.append(np.nan)\n",
    "            try:\n",
    "                links.append(titles[i].find('a', class_=\"p-0 js-title productClickTracker\").get('href'))\n",
    "            except:\n",
    "                links.append(np.nan)\n",
    "    else:\n",
    "        saved = i\n",
    "        print('You got caught!')\n",
    "        break\n",
    "    \n",
    "    time.sleep(random.random())   "
   ]
  },
  {
   "cell_type": "code",
   "execution_count": 262,
   "id": "0acdf936-a81f-4d0d-842f-9230854e47e0",
   "metadata": {},
   "outputs": [],
   "source": [
    "dic = {'Title': books,\n",
    "    'Price_Old': price_old,\n",
    "    'Discount': price_discount,\n",
    "    'Price_New': price_new,\n",
    "    'Publisher': publisher,\n",
    "    'Link': links }"
   ]
  },
  {
   "cell_type": "code",
   "execution_count": 263,
   "id": "b3e4f74d-fab9-4aa5-9a8d-29af75aef98d",
   "metadata": {},
   "outputs": [],
   "source": [
    "df = pd.DataFrame(dic, columns=['Title','Price_Old','Discount','Price_New','Publisher','Link'])"
   ]
  },
  {
   "cell_type": "code",
   "execution_count": 271,
   "id": "9f61d926-1cdf-44d8-8cf9-e35384986f0b",
   "metadata": {},
   "outputs": [],
   "source": [
    "df['Year'] = 2020"
   ]
  },
  {
   "cell_type": "code",
   "execution_count": 278,
   "id": "016c0f18-c75c-4705-b29a-fb9bc3127fba",
   "metadata": {},
   "outputs": [
    {
     "data": {
      "text/plain": [
       "(11832, 7)"
      ]
     },
     "execution_count": 278,
     "metadata": {},
     "output_type": "execute_result"
    }
   ],
   "source": [
    "df.shape"
   ]
  },
  {
   "cell_type": "code",
   "execution_count": 275,
   "id": "69bc5078-d235-41df-bc3d-d4da4ae697a8",
   "metadata": {},
   "outputs": [],
   "source": [
    "df.to_csv('books_2020.csv',index=False)"
   ]
  },
  {
   "cell_type": "code",
   "execution_count": 16,
   "id": "3f19150b-a8b1-486b-b379-fc85be09c449",
   "metadata": {},
   "outputs": [],
   "source": [
    "df = pd.read_csv('../data/Books2018.csv')"
   ]
  },
  {
   "cell_type": "code",
   "execution_count": 17,
   "id": "d47057e2-531c-4d39-912d-bb0d5c37082a",
   "metadata": {},
   "outputs": [
    {
     "data": {
      "text/html": [
       "<div>\n",
       "<style scoped>\n",
       "    .dataframe tbody tr th:only-of-type {\n",
       "        vertical-align: middle;\n",
       "    }\n",
       "\n",
       "    .dataframe tbody tr th {\n",
       "        vertical-align: top;\n",
       "    }\n",
       "\n",
       "    .dataframe thead th {\n",
       "        text-align: right;\n",
       "    }\n",
       "</style>\n",
       "<table border=\"1\" class=\"dataframe\">\n",
       "  <thead>\n",
       "    <tr style=\"text-align: right;\">\n",
       "      <th></th>\n",
       "      <th>Title</th>\n",
       "      <th>Price_Old</th>\n",
       "      <th>Discount</th>\n",
       "      <th>Price_New</th>\n",
       "      <th>Publisher</th>\n",
       "      <th>Link</th>\n",
       "      <th>Year</th>\n",
       "    </tr>\n",
       "  </thead>\n",
       "  <tbody>\n",
       "    <tr>\n",
       "      <th>0</th>\n",
       "      <td>Οι άλλες ιστορίες</td>\n",
       "      <td>13.00€</td>\n",
       "      <td>-27%</td>\n",
       "      <td>9.49€</td>\n",
       "      <td>Marcos Subcomandante</td>\n",
       "      <td>https://www.captainbook.gr/book/oi-alles-istor...</td>\n",
       "      <td>2018</td>\n",
       "    </tr>\n",
       "    <tr>\n",
       "      <th>1</th>\n",
       "      <td>O ΜΑΙΓΚΡΕ ΚΑΙ Ο ΝΕΚΡΟΣ ΤΟΥ</td>\n",
       "      <td>8.80€</td>\n",
       "      <td>-57%</td>\n",
       "      <td>3.80€</td>\n",
       "      <td>Georges Simenon</td>\n",
       "      <td>https://www.captainbook.gr/book/o-maigkre-kai-...</td>\n",
       "      <td>2018</td>\n",
       "    </tr>\n",
       "    <tr>\n",
       "      <th>2</th>\n",
       "      <td>Το δωμάτιο του Τζοβάνι</td>\n",
       "      <td>50.00€</td>\n",
       "      <td>-11%</td>\n",
       "      <td>44.50€</td>\n",
       "      <td>James Baldwin</td>\n",
       "      <td>https://www.captainbook.gr/book/to-domatio-tou...</td>\n",
       "      <td>2018</td>\n",
       "    </tr>\n",
       "    <tr>\n",
       "      <th>3</th>\n",
       "      <td>Περιβαλλοντικό Ποινικό Δίκαιο</td>\n",
       "      <td>20.00€</td>\n",
       "      <td>-11%</td>\n",
       "      <td>17.80€</td>\n",
       "      <td>Γεώργιος Π. Αλμπούρας</td>\n",
       "      <td>https://www.captainbook.gr/book/periballontiko...</td>\n",
       "      <td>2018</td>\n",
       "    </tr>\n",
       "    <tr>\n",
       "      <th>4</th>\n",
       "      <td>Περιβαλλοντικό Ποινικό Δίκαιο</td>\n",
       "      <td>90.00€</td>\n",
       "      <td>-11%</td>\n",
       "      <td>80.10€</td>\n",
       "      <td>Γεώργιος Π. Αλμπούρας</td>\n",
       "      <td>https://www.captainbook.gr/book/periballontiko...</td>\n",
       "      <td>2018</td>\n",
       "    </tr>\n",
       "  </tbody>\n",
       "</table>\n",
       "</div>"
      ],
      "text/plain": [
       "                           Title Price_Old Discount Price_New  \\\n",
       "0              Οι άλλες ιστορίες    13.00€     -27%     9.49€   \n",
       "1     O ΜΑΙΓΚΡΕ ΚΑΙ Ο ΝΕΚΡΟΣ ΤΟΥ     8.80€     -57%     3.80€   \n",
       "2         Το δωμάτιο του Τζοβάνι    50.00€     -11%    44.50€   \n",
       "3  Περιβαλλοντικό Ποινικό Δίκαιο    20.00€     -11%    17.80€   \n",
       "4  Περιβαλλοντικό Ποινικό Δίκαιο    90.00€     -11%    80.10€   \n",
       "\n",
       "               Publisher                                               Link  \\\n",
       "0   Marcos Subcomandante  https://www.captainbook.gr/book/oi-alles-istor...   \n",
       "1        Georges Simenon  https://www.captainbook.gr/book/o-maigkre-kai-...   \n",
       "2          James Baldwin  https://www.captainbook.gr/book/to-domatio-tou...   \n",
       "3  Γεώργιος Π. Αλμπούρας  https://www.captainbook.gr/book/periballontiko...   \n",
       "4  Γεώργιος Π. Αλμπούρας  https://www.captainbook.gr/book/periballontiko...   \n",
       "\n",
       "   Year  \n",
       "0  2018  \n",
       "1  2018  \n",
       "2  2018  \n",
       "3  2018  \n",
       "4  2018  "
      ]
     },
     "execution_count": 17,
     "metadata": {},
     "output_type": "execute_result"
    }
   ],
   "source": [
    "df.head()"
   ]
  },
  {
   "cell_type": "code",
   "execution_count": 23,
   "id": "d66bb3e3-f5a2-4521-b697-feeca4433d97",
   "metadata": {},
   "outputs": [],
   "source": [
    "category = []\n",
    "ISBN = []\n",
    "pages=[]\n",
    "binding = []"
   ]
  },
  {
   "cell_type": "code",
   "execution_count": 32,
   "id": "4b58a153-10a9-44a2-a606-d7bc0fc5c93e",
   "metadata": {},
   "outputs": [
    {
     "data": {
      "application/vnd.jupyter.widget-view+json": {
       "model_id": "97990079cc184e7292d1eed9c3df7500",
       "version_major": 2,
       "version_minor": 0
      },
      "text/plain": [
       "  0%|          | 0/611 [00:00<?, ?it/s]"
      ]
     },
     "metadata": {},
     "output_type": "display_data"
    }
   ],
   "source": [
    "for link in tqdm(df.iloc[11725:,5]):\n",
    "    try:\n",
    "        response = requests.get(link, headers = headers)\n",
    "    \n",
    "        if response.status_code == 200:\n",
    "            soup1 = bs(response.content, 'html.parser')\n",
    "            body = soup1.find('div', class_=\"fading col-md-12 p-0\").find_all('div', class_=\"td\")\n",
    "            body1=soup1.find_all('li', class_=\"py-2 d-flex justify-content-between\")\n",
    "            \n",
    "            try:\n",
    "                count1=0\n",
    "                count2=0\n",
    "                count3=0\n",
    "                count4=0\n",
    "\n",
    "                for bod in body1:\n",
    "                    if re.search(r'Κατηγορίες',str(bod)):\n",
    "                        category.append(bod.get_text().strip().split('\\n')[-1])\n",
    "                        count1+=1\n",
    "                    elif re.search(r'ISBN',str(bod)):\n",
    "                        ISBN.append(bod.get_text().strip().split('\\n')[-1])\n",
    "                        count2+=1\n",
    "                \n",
    "                for i in range(len(body)):\n",
    "                    if re.search(r'Σελίδες',str(body[i])):\n",
    "                        pages.append(body[i+1].get_text().strip())\n",
    "                        count3 +=1\n",
    "                    elif re.search(r'Δέσιμο',str(body[i])):\n",
    "                        binding.append(body[i+1].get_text().strip())\n",
    "                        count4 +=1\n",
    "\n",
    "                if count1 == 0:\n",
    "                    category.append(np.nan)\n",
    "                if count2 == 0:\n",
    "                    ISBN.append(np.nan)\n",
    "                if count3 == 0:\n",
    "                    pages.append(np.nan)\n",
    "                if count4 == 0:\n",
    "                    binding.append(np.nan)\n",
    "\n",
    "            except:\n",
    "                saved=link\n",
    "                print('dafuq')\n",
    "                break\n",
    "\n",
    "        else:\n",
    "            saved=link\n",
    "            print('You got caught!')\n",
    "            break\n",
    "    except:\n",
    "        category.append(np.nan)\n",
    "        ISBN.append(np.nan)\n",
    "        pages.append(np.nan)\n",
    "        binding.append(np.nan)\n",
    "    \n",
    "\n",
    "    time.sleep(random.uniform(0,3))"
   ]
  },
  {
   "cell_type": "code",
   "execution_count": 33,
   "id": "fe1f6330-976b-4a58-bd7f-b9d5750c915d",
   "metadata": {},
   "outputs": [
    {
     "data": {
      "text/plain": [
       "(12336, 12336, 12336, 12336)"
      ]
     },
     "execution_count": 33,
     "metadata": {},
     "output_type": "execute_result"
    }
   ],
   "source": [
    "len(category) , len(ISBN), len(pages), len(binding)"
   ]
  },
  {
   "cell_type": "code",
   "execution_count": 34,
   "id": "a7b77b3d-168e-4b45-9e0e-16d62bcf4b6e",
   "metadata": {},
   "outputs": [],
   "source": [
    "df['Category'] = category\n",
    "df['ISBN'] = ISBN\n",
    "df['Pages'] = pages\n",
    "df['Binding'] = binding"
   ]
  },
  {
   "cell_type": "code",
   "execution_count": 35,
   "id": "c1afc9e6-c93d-40f2-8527-e0d0180bc864",
   "metadata": {},
   "outputs": [
    {
     "data": {
      "text/html": [
       "<div>\n",
       "<style scoped>\n",
       "    .dataframe tbody tr th:only-of-type {\n",
       "        vertical-align: middle;\n",
       "    }\n",
       "\n",
       "    .dataframe tbody tr th {\n",
       "        vertical-align: top;\n",
       "    }\n",
       "\n",
       "    .dataframe thead th {\n",
       "        text-align: right;\n",
       "    }\n",
       "</style>\n",
       "<table border=\"1\" class=\"dataframe\">\n",
       "  <thead>\n",
       "    <tr style=\"text-align: right;\">\n",
       "      <th></th>\n",
       "      <th>Title</th>\n",
       "      <th>Price_Old</th>\n",
       "      <th>Discount</th>\n",
       "      <th>Price_New</th>\n",
       "      <th>Publisher</th>\n",
       "      <th>Link</th>\n",
       "      <th>Year</th>\n",
       "      <th>Category</th>\n",
       "      <th>ISBN</th>\n",
       "      <th>Pages</th>\n",
       "      <th>Binding</th>\n",
       "    </tr>\n",
       "  </thead>\n",
       "  <tbody>\n",
       "    <tr>\n",
       "      <th>0</th>\n",
       "      <td>Οι άλλες ιστορίες</td>\n",
       "      <td>13.00€</td>\n",
       "      <td>-27%</td>\n",
       "      <td>9.49€</td>\n",
       "      <td>Marcos Subcomandante</td>\n",
       "      <td>https://www.captainbook.gr/book/oi-alles-istor...</td>\n",
       "      <td>2018</td>\n",
       "      <td>, Μαρτυρίες</td>\n",
       "      <td>9789609797733</td>\n",
       "      <td>104</td>\n",
       "      <td>Μαλακό εξώφυλλο</td>\n",
       "    </tr>\n",
       "    <tr>\n",
       "      <th>1</th>\n",
       "      <td>O ΜΑΙΓΚΡΕ ΚΑΙ Ο ΝΕΚΡΟΣ ΤΟΥ</td>\n",
       "      <td>8.80€</td>\n",
       "      <td>-57%</td>\n",
       "      <td>3.80€</td>\n",
       "      <td>Georges Simenon</td>\n",
       "      <td>https://www.captainbook.gr/book/o-maigkre-kai-...</td>\n",
       "      <td>2018</td>\n",
       "      <td>Πεζογραφία</td>\n",
       "      <td>9789605053185</td>\n",
       "      <td>272</td>\n",
       "      <td>Χαρτόδετο</td>\n",
       "    </tr>\n",
       "    <tr>\n",
       "      <th>2</th>\n",
       "      <td>Το δωμάτιο του Τζοβάνι</td>\n",
       "      <td>50.00€</td>\n",
       "      <td>-11%</td>\n",
       "      <td>44.50€</td>\n",
       "      <td>James Baldwin</td>\n",
       "      <td>https://www.captainbook.gr/book/to-domatio-tou...</td>\n",
       "      <td>2018</td>\n",
       "      <td>, Νουβέλα</td>\n",
       "      <td>9786180314175</td>\n",
       "      <td>248</td>\n",
       "      <td>Χαρτόδετο</td>\n",
       "    </tr>\n",
       "    <tr>\n",
       "      <th>3</th>\n",
       "      <td>Περιβαλλοντικό Ποινικό Δίκαιο</td>\n",
       "      <td>20.00€</td>\n",
       "      <td>-11%</td>\n",
       "      <td>17.80€</td>\n",
       "      <td>Γεώργιος Π. Αλμπούρας</td>\n",
       "      <td>https://www.captainbook.gr/book/periballontiko...</td>\n",
       "      <td>2018</td>\n",
       "      <td>Νομική</td>\n",
       "      <td>9789605961251</td>\n",
       "      <td>738</td>\n",
       "      <td>Χαρτόδετο</td>\n",
       "    </tr>\n",
       "    <tr>\n",
       "      <th>4</th>\n",
       "      <td>Περιβαλλοντικό Ποινικό Δίκαιο</td>\n",
       "      <td>90.00€</td>\n",
       "      <td>-11%</td>\n",
       "      <td>80.10€</td>\n",
       "      <td>Γεώργιος Π. Αλμπούρας</td>\n",
       "      <td>https://www.captainbook.gr/book/periballontiko...</td>\n",
       "      <td>2018</td>\n",
       "      <td>Νομική</td>\n",
       "      <td>9789605961244</td>\n",
       "      <td>258</td>\n",
       "      <td>Χαρτόδετο</td>\n",
       "    </tr>\n",
       "  </tbody>\n",
       "</table>\n",
       "</div>"
      ],
      "text/plain": [
       "                           Title Price_Old Discount Price_New  \\\n",
       "0              Οι άλλες ιστορίες    13.00€     -27%     9.49€   \n",
       "1     O ΜΑΙΓΚΡΕ ΚΑΙ Ο ΝΕΚΡΟΣ ΤΟΥ     8.80€     -57%     3.80€   \n",
       "2         Το δωμάτιο του Τζοβάνι    50.00€     -11%    44.50€   \n",
       "3  Περιβαλλοντικό Ποινικό Δίκαιο    20.00€     -11%    17.80€   \n",
       "4  Περιβαλλοντικό Ποινικό Δίκαιο    90.00€     -11%    80.10€   \n",
       "\n",
       "               Publisher                                               Link  \\\n",
       "0   Marcos Subcomandante  https://www.captainbook.gr/book/oi-alles-istor...   \n",
       "1        Georges Simenon  https://www.captainbook.gr/book/o-maigkre-kai-...   \n",
       "2          James Baldwin  https://www.captainbook.gr/book/to-domatio-tou...   \n",
       "3  Γεώργιος Π. Αλμπούρας  https://www.captainbook.gr/book/periballontiko...   \n",
       "4  Γεώργιος Π. Αλμπούρας  https://www.captainbook.gr/book/periballontiko...   \n",
       "\n",
       "   Year     Category           ISBN Pages          Binding  \n",
       "0  2018  , Μαρτυρίες  9789609797733   104  Μαλακό εξώφυλλο  \n",
       "1  2018   Πεζογραφία  9789605053185   272        Χαρτόδετο  \n",
       "2  2018    , Νουβέλα  9786180314175   248        Χαρτόδετο  \n",
       "3  2018       Νομική  9789605961251   738        Χαρτόδετο  \n",
       "4  2018       Νομική  9789605961244   258        Χαρτόδετο  "
      ]
     },
     "execution_count": 35,
     "metadata": {},
     "output_type": "execute_result"
    }
   ],
   "source": [
    "df.head()"
   ]
  },
  {
   "cell_type": "code",
   "execution_count": 36,
   "id": "f6768aaf-dd29-4799-a75c-5896c54b5559",
   "metadata": {},
   "outputs": [],
   "source": [
    "df.to_csv('../data/Books2018.csv',index=False)"
   ]
  },
  {
   "cell_type": "code",
   "execution_count": 4,
   "id": "10735d4c-4d55-449a-bf0f-479241de3d59",
   "metadata": {},
   "outputs": [],
   "source": [
    "import pickle"
   ]
  },
  {
   "cell_type": "code",
   "execution_count": 81,
   "id": "67ac2ffa-310c-4523-a895-7a4d9734da29",
   "metadata": {},
   "outputs": [],
   "source": [
    "# pickle_out = open('category.pickle', 'wb')\n",
    "# pickle.dump(category, pickle_out)\n",
    "# pickle_out.close()\n",
    "\n",
    "# pickle_out = open('ISBN.pickle','wb')\n",
    "# pickle.dump(ISBN, pickle_out)\n",
    "# pickle_out.close()\n",
    "\n",
    "# pickle_out = open('binding.pickle','wb')\n",
    "# pickle.dump(binding, pickle_out)\n",
    "# pickle_out.close()\n",
    "\n",
    "# pickle_out = open('pages.pickle','wb')\n",
    "# pickle.dump(pages, pickle_out)\n",
    "# pickle_out.close()"
   ]
  },
  {
   "cell_type": "markdown",
   "id": "ce28ddf1-0d7a-4847-b5db-9d9323cc58d0",
   "metadata": {},
   "source": [
    "5072 last observation"
   ]
  },
  {
   "cell_type": "code",
   "execution_count": 5,
   "id": "f2c6b066-df24-479d-bd1b-0e8f974b9a82",
   "metadata": {},
   "outputs": [],
   "source": [
    "# binding = pickle.load(open('binding.pickle','rb'))\n",
    "# ISBN = pickle.load(open('ISBN.pickle','rb'))\n",
    "# category = pickle.load(open('category.pickle','rb'))\n",
    "# pages = pickle.load(open('pages.pickle','rb'))"
   ]
  },
  {
   "cell_type": "code",
   "execution_count": null,
   "id": "52b219ca-7145-4292-87af-aeddb142f8e2",
   "metadata": {},
   "outputs": [],
   "source": []
  }
 ],
 "metadata": {
  "kernelspec": {
   "display_name": "Python 3.8.8 64-bit ('base': conda)",
   "language": "python",
   "name": "python388jvsc74a57bd0ed718e0460773819e8e1b175dcd0fff1bcfe957987ef608ea9f9526ccda6afbb"
  },
  "language_info": {
   "codemirror_mode": {
    "name": "ipython",
    "version": 3
   },
   "file_extension": ".py",
   "mimetype": "text/x-python",
   "name": "python",
   "nbconvert_exporter": "python",
   "pygments_lexer": "ipython3",
   "version": "3.8.8"
  }
 },
 "nbformat": 4,
 "nbformat_minor": 5
}
