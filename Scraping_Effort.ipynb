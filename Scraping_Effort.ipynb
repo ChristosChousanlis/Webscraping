{
 "cells": [
  {
   "cell_type": "code",
   "execution_count": 1,
   "id": "0d885602",
   "metadata": {},
   "outputs": [],
   "source": [
    "import gower, random, re, requests\n",
    "import matplotlib.pyplot as plt\n",
    "import numpy as np\n",
    "import pandas as pd\n",
    "import seaborn as sns\n",
    "from bs4 import BeautifulSoup\n",
    "from datetime import datetime, timedelta\n",
    "from kmodes.kprototypes import KPrototypes\n",
    "from matplotlib import cm\n",
    "from pyclustering.cluster.kmedoids import kmedoids\n",
    "from sklearn.cluster import DBSCAN, KMeans\n",
    "from sklearn.datasets import make_blobs\n",
    "from sklearn.manifold import TSNE\n",
    "from sklearn.metrics import silhouette_samples, silhouette_score\n",
    "from scipy.cluster.hierarchy import dendrogram, fcluster, linkage\n",
    "from scipy.spatial.distance import pdist, squareform\n",
    "from time import sleep, time\n",
    "from tqdm.notebook import tqdm"
   ]
  },
  {
   "cell_type": "code",
   "execution_count": null,
   "id": "84666914",
   "metadata": {},
   "outputs": [],
   "source": [
    "main_link = 'https://www.captainbook.gr/bookstore/year/2019?page='\n",
    "for_p = soup.find_all('ul', \n",
    "                      class_='pagination justify-content-end')[0].find('li', \n",
    "                                                                        class_=\"page_item d-flex align-items-center\")\n",
    "max_pages = for_p.find_all('a')[-2].get_text()\n",
    "books, price_old, price_new, price_discount, publisher, links = [], [], [], [], [], []"
   ]
  },
  {
   "cell_type": "code",
   "execution_count": null,
   "id": "3bc761b1",
   "metadata": {},
   "outputs": [],
   "source": [
    "for page in tqdm(range(1, int(max_pages)+1)):\n",
    "    response = requests.get(main_link+str(page), headers = headers)\n",
    "    if response.status_code == 200:\n",
    "        soup = BeautifulSoup(response.content, 'html.parser')\n",
    "        titles = soup.find_all('h1')\n",
    "        prices = soup.find_all('div', class_='price p-0 d-flex mb-2 align-items-center justify-content-between')\n",
    "        publ = soup.find_all('h2', class_='p-0')\n",
    "        for i in range(12):\n",
    "            try: \n",
    "                price_old.append(prices[i].find_all('span', class_=\"old-price p-0\")[0].get_text().strip())\n",
    "            except:\n",
    "                price_old.append(np.nan)\n",
    "            try:\n",
    "                price_new.append(prices[i].find_all('span', class_=\"new-price p-0\")[0].get_text().strip())\n",
    "            except:\n",
    "                price_new.append(np.nan)\n",
    "            try:\n",
    "                price_discount.append(prices[i].find_all('small', class_=\"p-0\")[0].get_text().strip())\n",
    "            except:\n",
    "                price_discount.append(np.nan)\n",
    "            try:\n",
    "                publisher.append(publ[i].get_text().strip())\n",
    "            except:\n",
    "                publisher.append(np.nan)\n",
    "            try:\n",
    "                books.append(titles[i].get_text().strip())\n",
    "            except:\n",
    "                books.append(np.nan)\n",
    "            try:\n",
    "                links.append(titles[i].find('a', class_=\"p-0 js-title productClickTracker\").get('href'))\n",
    "            except:\n",
    "                links.append(np.nan)\n",
    "    else:\n",
    "        print('You got caught!')\n",
    "        break\n",
    "    sleep(random.random())"
   ]
  },
  {
   "cell_type": "code",
   "execution_count": null,
   "id": "214bb095",
   "metadata": {},
   "outputs": [],
   "source": [
    "df2019 = pd.DataFrame({'Title': books,\n",
    "                       'Price_Old': price_old,\n",
    "                       'Discount': price_discount,\n",
    "                       'Price_New': price_new,\n",
    "                       'Publisher': publisher,\n",
    "                       'Link': links,\n",
    "                       'Year': 2019})\n",
    "df2019"
   ]
  },
  {
   "cell_type": "code",
   "execution_count": null,
   "id": "947c6b41",
   "metadata": {},
   "outputs": [],
   "source": [
    "df2019.info()"
   ]
  },
  {
   "cell_type": "code",
   "execution_count": null,
   "id": "d4d26847",
   "metadata": {},
   "outputs": [],
   "source": [
    "df2019.to_csv('Books2019.csv', index = False)"
   ]
  },
  {
   "cell_type": "code",
   "execution_count": null,
   "id": "4f426767",
   "metadata": {},
   "outputs": [],
   "source": [
    "main_link = 'https://www.captainbook.gr/bookstore/year/2018?page='\n",
    "headers = {'User-agent': ''}\n",
    "response = requests.get(main_link, headers = headers)\n",
    "if response.status_code == 403:\n",
    "    print('you got cought!')\n",
    "soup = BeautifulSoup(response.content, 'html.parser')\n",
    "for_p = soup.find_all('ul', \n",
    "                      class_='pagination justify-content-end')[0].find('li', \n",
    "                                                                        class_=\"page_item d-flex align-items-center\")\n",
    "max_pages = for_p.find_all('a')[-2].get_text()\n",
    "books, price_old, price_new, price_discount, publisher, links = [], [], [], [], [], []\n",
    "for page in tqdm(range(1, int(max_pages)+1)):\n",
    "    response = requests.get(main_link+str(page), headers = headers)\n",
    "    if response.status_code == 200:\n",
    "        soup = BeautifulSoup(response.content, 'html.parser')\n",
    "        titles = soup.find_all('h1')\n",
    "        prices = soup.find_all('div', class_='price p-0 d-flex mb-2 align-items-center justify-content-between')\n",
    "        publ = soup.find_all('h2', class_='p-0')\n",
    "        for i in range(12):\n",
    "            try: \n",
    "                price_old.append(prices[i].find_all('span', class_=\"old-price p-0\")[0].get_text().strip())\n",
    "            except:\n",
    "                price_old.append(np.nan)\n",
    "            try:\n",
    "                price_new.append(prices[i].find_all('span', class_=\"new-price p-0\")[0].get_text().strip())\n",
    "            except:\n",
    "                price_new.append(np.nan)\n",
    "            try:\n",
    "                price_discount.append(prices[i].find_all('small', class_=\"p-0\")[0].get_text().strip())\n",
    "            except:\n",
    "                price_discount.append(np.nan)\n",
    "            try:\n",
    "                publisher.append(publ[i].get_text().strip())\n",
    "            except:\n",
    "                publisher.append(np.nan)\n",
    "            try:\n",
    "                books.append(titles[i].get_text().strip())\n",
    "            except:\n",
    "                books.append(np.nan)\n",
    "            try:\n",
    "                links.append(titles[i].find('a', class_=\"p-0 js-title productClickTracker\").get('href'))\n",
    "            except:\n",
    "                links.append(np.nan)\n",
    "    else:\n",
    "        print('You got caught!')\n",
    "        break\n",
    "    sleep(random.random())"
   ]
  },
  {
   "cell_type": "code",
   "execution_count": null,
   "id": "0c8c78dc",
   "metadata": {},
   "outputs": [],
   "source": [
    "df2018 = pd.DataFrame({'Title': books,\n",
    "                       'Price_Old': price_old,\n",
    "                       'Discount': price_discount,\n",
    "                       'Price_New': price_new,\n",
    "                       'Publisher': publisher,\n",
    "                       'Link': links,\n",
    "                       'Year': 2018})\n",
    "df2018"
   ]
  },
  {
   "cell_type": "code",
   "execution_count": null,
   "id": "951502d5",
   "metadata": {},
   "outputs": [],
   "source": [
    "df2018.info()"
   ]
  },
  {
   "cell_type": "code",
   "execution_count": null,
   "id": "520c75d7",
   "metadata": {},
   "outputs": [],
   "source": [
    "df2018.to_csv('Books2018.csv', index = False)"
   ]
  },
  {
   "cell_type": "code",
   "execution_count": null,
   "id": "8149b5f6",
   "metadata": {},
   "outputs": [],
   "source": [
    "main_link = 'https://www.captainbook.gr/bookstore/year/2016?page='\n",
    "headers = {'User-agent': ''}\n",
    "response = requests.get(main_link, headers = headers)\n",
    "if response.status_code == 403:\n",
    "    print('you got cought!')\n",
    "soup = BeautifulSoup(response.content, 'html.parser')\n",
    "for_p = soup.find_all('ul', \n",
    "                      class_='pagination justify-content-end')[0].find('li', \n",
    "                                                                        class_=\"page_item d-flex align-items-center\")\n",
    "max_pages = for_p.find_all('a')[-2].get_text()\n",
    "books, price_old, price_new, price_discount, publisher, links = [], [], [], [], [], []"
   ]
  },
  {
   "cell_type": "code",
   "execution_count": null,
   "id": "fe0be1da",
   "metadata": {},
   "outputs": [],
   "source": [
    "for page in tqdm(range(1, int(max_pages)+1)):\n",
    "    response = requests.get(main_link+str(page), headers = headers)\n",
    "    if response.status_code == 200:\n",
    "        soup = BeautifulSoup(response.content, 'html.parser')\n",
    "        titles = soup.find_all('h1')\n",
    "        prices = soup.find_all('div', class_='price p-0 d-flex mb-2 align-items-center justify-content-between')\n",
    "        publ = soup.find_all('h2', class_='p-0')\n",
    "        for i in range(12):\n",
    "            try: \n",
    "                price_old.append(prices[i].find_all('span', class_=\"old-price p-0\")[0].get_text().strip())\n",
    "            except:\n",
    "                price_old.append(np.nan)\n",
    "            try:\n",
    "                price_new.append(prices[i].find_all('span', class_=\"new-price p-0\")[0].get_text().strip())\n",
    "            except:\n",
    "                price_new.append(np.nan)\n",
    "            try:\n",
    "                price_discount.append(prices[i].find_all('small', class_=\"p-0\")[0].get_text().strip())\n",
    "            except:\n",
    "                price_discount.append(np.nan)\n",
    "            try:\n",
    "                publisher.append(publ[i].get_text().strip())\n",
    "            except:\n",
    "                publisher.append(np.nan)\n",
    "            try:\n",
    "                books.append(titles[i].get_text().strip())\n",
    "            except:\n",
    "                books.append(np.nan)\n",
    "            try:\n",
    "                links.append(titles[i].find('a', class_=\"p-0 js-title productClickTracker\").get('href'))\n",
    "            except:\n",
    "                links.append(np.nan)\n",
    "    else:\n",
    "        print('You got caught!')\n",
    "        break\n",
    "    sleep(random.uniform(0, 3))"
   ]
  },
  {
   "cell_type": "code",
   "execution_count": null,
   "id": "14862b1b",
   "metadata": {},
   "outputs": [],
   "source": [
    "df2016 = pd.DataFrame({'Title': books,\n",
    "                       'Price_Old': price_old,\n",
    "                       'Discount': price_discount,\n",
    "                       'Price_New': price_new,\n",
    "                       'Publisher': publisher,\n",
    "                       'Link': links,\n",
    "                       'Year': 2016})\n",
    "df2016"
   ]
  },
  {
   "cell_type": "code",
   "execution_count": null,
   "id": "593342c7",
   "metadata": {},
   "outputs": [],
   "source": [
    "df2016 = pd.read_csv('Books2016.csv')\n",
    "df2016.info()"
   ]
  },
  {
   "cell_type": "code",
   "execution_count": null,
   "id": "5cec0182",
   "metadata": {},
   "outputs": [],
   "source": [
    "df2016.head()"
   ]
  },
  {
   "cell_type": "code",
   "execution_count": null,
   "id": "48d42c8d",
   "metadata": {},
   "outputs": [],
   "source": [
    "category = []\n",
    "ISBN = []\n",
    "pages = []\n",
    "binding = []"
   ]
  },
  {
   "cell_type": "code",
   "execution_count": null,
   "id": "9d03c2b9",
   "metadata": {},
   "outputs": [],
   "source": [
    "headers = {'User-agent': ''}"
   ]
  },
  {
   "cell_type": "code",
   "execution_count": null,
   "id": "42852aaf",
   "metadata": {
    "scrolled": true
   },
   "outputs": [],
   "source": [
    "for link in tqdm(df2016.iloc[:, 5]):\n",
    "    try:\n",
    "        response = requests.get(link, headers = headers)\n",
    "        if response.status_code == 200:\n",
    "            soup1 = BeautifulSoup(response.content, 'html.parser')\n",
    "            body = soup1.find('div', class_ = 'fading col-md-12 p-0').find_all('div', class_ = 'td')\n",
    "            body1 = soup1.find_all('li', class_ = 'py-2 d-flex justify-content-between')\n",
    "            try:\n",
    "                count1 = 0\n",
    "                count2 = 0\n",
    "                count3 = 0\n",
    "                count4 = 0\n",
    "                for bod in body1:\n",
    "                    if re.search(r'Κατηγορίες', str(bod)):\n",
    "                        category.append(bod.get_text().strip().split('\\n')[-1])\n",
    "                        count1 += 1\n",
    "                    elif re.search(r'ISBN', str(bod)):\n",
    "                        ISBN.append(bod.get_text().strip().split('\\n')[-1])\n",
    "                        count2 += 1\n",
    "                for i in range(len(body)):\n",
    "                    if re.search(r'Σελίδες', str(body[i])):\n",
    "                        pages.append(body[i+1].get_text().strip())\n",
    "                        count3 += 1\n",
    "                    elif re.search(r'Δέσιμο', str(body[i])):\n",
    "                        binding.append(body[i+1].get_text().strip())\n",
    "                        count4 += 1\n",
    "                if count1 == 0:\n",
    "                    category.append(np.nan)\n",
    "                if count2 == 0:\n",
    "                    ISBN.append(np.nan)\n",
    "                if count3 == 0:\n",
    "                    pages.append(np.nan)\n",
    "                if count4 == 0:\n",
    "                    binding.append(np.nan)\n",
    "            except:\n",
    "                saved = link\n",
    "                print('dafuq')\n",
    "                break\n",
    "        else:\n",
    "            saved = link\n",
    "            print('You got caught!')\n",
    "            break\n",
    "    except:\n",
    "        category.append(np.nan)\n",
    "        ISBN.append(np.nan)\n",
    "        pages.append(np.nan)\n",
    "        binding.append(np.nan)\n",
    "        print('There is a problem here!')\n",
    "    sleep(random.uniform(1, 3))"
   ]
  },
  {
   "cell_type": "code",
   "execution_count": null,
   "id": "8522f210",
   "metadata": {},
   "outputs": [],
   "source": [
    "print(len(category), len(ISBN), len(pages), len(binding), len(df2016))"
   ]
  },
  {
   "cell_type": "code",
   "execution_count": null,
   "id": "dd3c5dd4",
   "metadata": {},
   "outputs": [],
   "source": [
    "df2016['Category'] = category\n",
    "df2016['ISBN'] = ISBN\n",
    "df2016['Pages'] = pages\n",
    "df2016['Binding'] = binding\n",
    "df2016.head()"
   ]
  },
  {
   "cell_type": "code",
   "execution_count": null,
   "id": "d206d381",
   "metadata": {},
   "outputs": [],
   "source": [
    "df2016.info()"
   ]
  },
  {
   "cell_type": "code",
   "execution_count": null,
   "id": "90332d90",
   "metadata": {},
   "outputs": [],
   "source": [
    "df2016.to_csv('Books2016.csv', index = False)"
   ]
  }
 ],
 "metadata": {
  "kernelspec": {
   "display_name": "Python 3",
   "language": "python",
   "name": "python3"
  },
  "language_info": {
   "codemirror_mode": {
    "name": "ipython",
    "version": 3
   },
   "file_extension": ".py",
   "mimetype": "text/x-python",
   "name": "python",
   "nbconvert_exporter": "python",
   "pygments_lexer": "ipython3",
   "version": "3.7.11"
  }
 },
 "nbformat": 4,
 "nbformat_minor": 5
}
